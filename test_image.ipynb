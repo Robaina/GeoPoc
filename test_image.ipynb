{
 "cells": [
  {
   "cell_type": "markdown",
   "metadata": {},
   "source": [
    "# Test GeoPoc docker image\n",
    "\n",
    "GeoPoc uses ESM-2"
   ]
  },
  {
   "cell_type": "markdown",
   "metadata": {},
   "source": [
    "### Compute pdb structures"
   ]
  },
  {
   "cell_type": "code",
   "execution_count": 8,
   "metadata": {
    "tags": []
   },
   "outputs": [],
   "source": [
    "%%bash\n",
    "\n",
    "mkdir -p /home/ec2-user/SageMaker/GeoPoc/tests/features/pdb\n",
    "mkdir -p /home/ec2-user/SageMaker/GeoPoc/tests/features/embedding/temp\n",
    "mkdir -p /home/ec2-user/SageMaker/GeoPoc/tests/features/embedding/pH\n",
    "mkdir -p /home/ec2-user/SageMaker/GeoPoc/tests/features/embedding/salt\n",
    "mkdir -p /home/ec2-user/SageMaker/GeoPoc/tests/features/DSSP\n",
    "sudo chmod -R 777 /home/ec2-user/SageMaker/GeoPoc/tests/features"
   ]
  },
  {
   "cell_type": "code",
   "execution_count": 3,
   "metadata": {
    "tags": []
   },
   "outputs": [
    {
     "name": "stdout",
     "output_type": "stream",
     "text": [
      "\u001b[31mERROR: pip's dependency resolver does not currently take into account all the packages that are installed. This behaviour is the source of the following dependency conflicts.\n",
      "sphinx 8.1.3 requires docutils<0.22,>=0.20, but you have docutils 0.16 which is incompatible.\u001b[0m\u001b[31m\n",
      "\u001b[0m\u001b[33mWARNING: Skipping proteus as it is not installed.\u001b[0m\u001b[33m\n",
      "\u001b[0mBuilding \u001b[36mproteus\u001b[39m (\u001b[39;1m0.0.0\u001b[39;22m)\n",
      "  - Building \u001b[34msdist\u001b[39m\n",
      "  - Built \u001b[32mproteus-0.0.0.tar.gz\u001b[39m\n",
      "  - Building \u001b[34mwheel\u001b[39m\n",
      "  - Built \u001b[32mproteus-0.0.0-py3-none-any.whl\u001b[39m\n",
      "Processing ./dist/proteus-0.0.0-py3-none-any.whl\n",
      "Installing collected packages: proteus\n",
      "Successfully installed proteus-0.0.0\n"
     ]
    }
   ],
   "source": [
    "!cd ../Proteus && pip install -qr requirements.txt\n",
    "!cd ../Proteus && pip uninstall -y proteus && poetry build && pip install dist/proteus-0.0.0-py3-none-any.whl"
   ]
  },
  {
   "cell_type": "markdown",
   "metadata": {},
   "source": [
    "## Fold sequences"
   ]
  },
  {
   "cell_type": "code",
   "execution_count": 18,
   "metadata": {
    "tags": []
   },
   "outputs": [],
   "source": [
    "from proteus.fitness_helpers import run_esmfold\n",
    "\n",
    "pdb_dir = \"/home/ec2-user/SageMaker/GeoPoc/tests/features\"\n",
    "\n",
    "run_esmfold(\n",
    "    fasta_path=\"/home/ec2-user/SageMaker/GeoPoc/GeoPoc/example/test.fasta\",\n",
    "    pdb_output_path=pdb_dir,\n",
    "    cpu_only=False,\n",
    "    docker_image=\"ghcr.io/new-atlantis-labs/esmfold:latest\",\n",
    ")"
   ]
  },
  {
   "cell_type": "markdown",
   "metadata": {},
   "source": [
    "## Run GeoPoc: optimal temperature"
   ]
  },
  {
   "cell_type": "code",
   "execution_count": 11,
   "metadata": {
    "tags": []
   },
   "outputs": [
    {
     "name": "stdout",
     "output_type": "stream",
     "text": [
      "/opt/conda/lib/python3.7/site-packages/Bio/pairwise2.py:283: BiopythonDeprecationWarning: Bio.pairwise2 has been deprecated, and we intend to remove it in a future release of Biopython. As an alternative, please consider using Bio.Align.PairwiseAligner as a replacement, and contact the Biopython developers if you still need the Bio.pairwise2 module.\n",
      "  BiopythonDeprecationWarning,\n",
      "100%|██████████| 1/1 [00:00<00:00,  1.17it/s]\n"
     ]
    }
   ],
   "source": [
    "%%bash\n",
    "\n",
    "docker run --rm --gpus \"all\" \\\n",
    "  -v /home/ec2-user/SageMaker/GeoPoc/tests/:/app/GeoPoc/input \\\n",
    "  -v /home/ec2-user/SageMaker/GeoPoc/tests/outputs:/app/GeoPoc/output \\\n",
    "  -v /home/ec2-user/SageMaker/GeoPoc/tests/features:/app/GeoPoc/features \\\n",
    "  ghcr.io/new-atlantis-labs/geopoc:latest \\\n",
    "  -i /app/GeoPoc/input/test.fasta \\\n",
    "  --feature_path /app/GeoPoc/features/ \\\n",
    "  -o /app/GeoPoc/output/ \\\n",
    "  --task temp \\\n",
    "  --gpu 0 2>&1"
   ]
  },
  {
   "cell_type": "markdown",
   "metadata": {},
   "source": [
    "## Optimal pH"
   ]
  },
  {
   "cell_type": "code",
   "execution_count": 9,
   "metadata": {
    "tags": []
   },
   "outputs": [
    {
     "name": "stdout",
     "output_type": "stream",
     "text": [
      "/opt/conda/lib/python3.7/site-packages/Bio/pairwise2.py:283: BiopythonDeprecationWarning: Bio.pairwise2 has been deprecated, and we intend to remove it in a future release of Biopython. As an alternative, please consider using Bio.Align.PairwiseAligner as a replacement, and contact the Biopython developers if you still need the Bio.pairwise2 module.\n",
      "  BiopythonDeprecationWarning,\n",
      "100%|██████████| 1/1 [00:00<00:00, 33.34it/s]\n",
      "100%|██████████| 1/1 [00:01<00:00,  1.95s/it]\n"
     ]
    }
   ],
   "source": [
    "%%bash\n",
    "\n",
    "docker run --rm --gpus \"all\" \\\n",
    "  -v /home/ec2-user/SageMaker/GeoPoc/tests/:/app/GeoPoc/input \\\n",
    "  -v /home/ec2-user/SageMaker/GeoPoc/tests/outputs:/app/GeoPoc/output \\\n",
    "  -v /home/ec2-user/SageMaker/GeoPoc/tests/features:/app/GeoPoc/features \\\n",
    "  ghcr.io/new-atlantis-labs/geopoc:latest \\\n",
    "  -i /app/GeoPoc/input/test.fasta \\\n",
    "  --feature_path /app/GeoPoc/features/ \\\n",
    "  -o /app/GeoPoc/output/ \\\n",
    "  --task pH \\\n",
    "  --gpu 0 2>&1"
   ]
  },
  {
   "cell_type": "markdown",
   "metadata": {},
   "source": [
    "## Optimal Salt Concentration"
   ]
  },
  {
   "cell_type": "code",
   "execution_count": 10,
   "metadata": {
    "tags": []
   },
   "outputs": [
    {
     "name": "stdout",
     "output_type": "stream",
     "text": [
      "/opt/conda/lib/python3.7/site-packages/Bio/pairwise2.py:283: BiopythonDeprecationWarning: Bio.pairwise2 has been deprecated, and we intend to remove it in a future release of Biopython. As an alternative, please consider using Bio.Align.PairwiseAligner as a replacement, and contact the Biopython developers if you still need the Bio.pairwise2 module.\n",
      "  BiopythonDeprecationWarning,\n",
      "100%|██████████| 1/1 [00:00<00:00, 97.28it/s]\n",
      "100%|██████████| 1/1 [00:00<00:00,  1.14it/s]\n"
     ]
    }
   ],
   "source": [
    "%%bash\n",
    "\n",
    "docker run --rm --gpus \"all\" \\\n",
    "  -v /home/ec2-user/SageMaker/GeoPoc/tests/:/app/GeoPoc/input \\\n",
    "  -v /home/ec2-user/SageMaker/GeoPoc/tests/outputs:/app/GeoPoc/output \\\n",
    "  -v /home/ec2-user/SageMaker/GeoPoc/tests/features:/app/GeoPoc/features \\\n",
    "  ghcr.io/new-atlantis-labs/geopoc:latest \\\n",
    "  -i /app/GeoPoc/input/test.fasta \\\n",
    "  --feature_path /app/GeoPoc/features/ \\\n",
    "  -o /app/GeoPoc/output/ \\\n",
    "  --task salt \\\n",
    "  --gpu 0 2>&1"
   ]
  },
  {
   "cell_type": "markdown",
   "metadata": {},
   "source": [
    "## Check ESM-2 embeddings\n",
    "\n",
    "Default: esm2_t36_3B_UR50D, repr_layers 36, per_tok"
   ]
  },
  {
   "cell_type": "code",
   "execution_count": 2,
   "metadata": {
    "tags": []
   },
   "outputs": [
    {
     "data": {
      "text/plain": [
       "{'label': 'A0A2P5KBM8',\n",
       " 'representations': {36: tensor([[-0.0092, -0.2994, -0.0446,  ..., -0.1057, -0.0994,  0.0472],\n",
       "          [ 0.0281, -0.2679,  0.0986,  ..., -0.0202, -0.0519,  0.1983],\n",
       "          [-0.0282, -0.2964, -0.0660,  ..., -0.0505, -0.1806,  0.0681],\n",
       "          ...,\n",
       "          [-0.1459, -0.0200,  0.0344,  ...,  0.0357, -0.1755,  0.0262],\n",
       "          [-0.1893,  0.0585, -0.0425,  ...,  0.0749, -0.1993,  0.0551],\n",
       "          [-0.1980,  0.0546, -0.0686,  ..., -0.1147, -0.2503, -0.0083]])}}"
      ]
     },
     "execution_count": 2,
     "metadata": {},
     "output_type": "execute_result"
    }
   ],
   "source": [
    "import torch\n",
    "\n",
    "master_emb_path = \"tests/features/embedding/A0A2P5KBM8.pt\"\n",
    "master_emb = torch.load(master_emb_path)\n",
    "master_emb"
   ]
  },
  {
   "cell_type": "code",
   "execution_count": 7,
   "metadata": {
    "tags": []
   },
   "outputs": [
    {
     "data": {
      "text/plain": [
       "torch.Size([330, 2560])"
      ]
     },
     "execution_count": 7,
     "metadata": {},
     "output_type": "execute_result"
    }
   ],
   "source": [
    "master_emb[\"representations\"][36].shape"
   ]
  },
  {
   "cell_type": "code",
   "execution_count": 1,
   "metadata": {
    "tags": []
   },
   "outputs": [
    {
     "data": {
      "text/plain": [
       "tensor([[0.5213, 0.3295, 0.4792,  ..., 0.4221, 0.4717, 0.5725],\n",
       "        [0.5408, 0.3473, 0.5513,  ..., 0.4725, 0.4949, 0.6559],\n",
       "        [0.5115, 0.3313, 0.4685,  ..., 0.4546, 0.4320, 0.5840],\n",
       "        ...,\n",
       "        [0.4502, 0.4869, 0.5190,  ..., 0.5055, 0.4345, 0.5609],\n",
       "        [0.4276, 0.5310, 0.4803,  ..., 0.5286, 0.4228, 0.5769],\n",
       "        [0.4231, 0.5288, 0.4672,  ..., 0.4168, 0.3979, 0.5419]])"
      ]
     },
     "execution_count": 1,
     "metadata": {},
     "output_type": "execute_result"
    }
   ],
   "source": [
    "import torch\n",
    "\n",
    "emb_path = \"tests/features/embedding/temp/A0A2P5KBM8.tensor\"\n",
    "embeddings = torch.load(emb_path)\n",
    "embeddings"
   ]
  },
  {
   "cell_type": "code",
   "execution_count": 3,
   "metadata": {
    "tags": []
   },
   "outputs": [
    {
     "data": {
      "text/plain": [
       "torch.Size([330, 2560])"
      ]
     },
     "execution_count": 3,
     "metadata": {},
     "output_type": "execute_result"
    }
   ],
   "source": [
    "embeddings.shape"
   ]
  },
  {
   "cell_type": "code",
   "execution_count": 8,
   "metadata": {
    "tags": []
   },
   "outputs": [
    {
     "name": "stdout",
     "output_type": "stream",
     "text": [
      "\n",
      "temp tensor shape: torch.Size([330, 2560])\n",
      "temp stats - mean: 0.498779, std: 0.072624\n",
      "\n",
      "pH tensor shape: torch.Size([330, 2560])\n",
      "pH stats - mean: 0.499010, std: 0.073043\n",
      "\n",
      "salt tensor shape: torch.Size([330, 2560])\n",
      "salt stats - mean: 0.498744, std: 0.073552\n",
      "\n",
      "temp vs pH equal: False\n",
      "Mean absolute difference: 0.011842\n",
      "\n",
      "temp vs salt equal: False\n",
      "Mean absolute difference: 0.013285\n",
      "\n",
      "pH vs salt equal: False\n",
      "Mean absolute difference: 0.012708\n"
     ]
    }
   ],
   "source": [
    "import torch\n",
    "from pathlib import Path\n",
    "\n",
    "# Define paths\n",
    "base_path = \"tests/features/embedding\"\n",
    "protein_id = \"A0A2P5KBM8\"\n",
    "dirs = ['temp', 'pH', 'salt']\n",
    "\n",
    "# Load tensors\n",
    "tensors = {}\n",
    "for dir_name in dirs:\n",
    "    path = Path(base_path) / dir_name / f\"{protein_id}.tensor\"\n",
    "    tensors[dir_name] = torch.load(path)\n",
    "    print(f\"\\n{dir_name} tensor shape:\", tensors[dir_name].shape)\n",
    "    print(f\"{dir_name} stats - mean: {tensors[dir_name].mean():.6f}, std: {tensors[dir_name].std():.6f}\")\n",
    "\n",
    "# Compare pairs\n",
    "for i, dir1 in enumerate(dirs):\n",
    "    for dir2 in dirs[i+1:]:\n",
    "        is_equal = torch.equal(tensors[dir1], tensors[dir2])\n",
    "        print(f\"\\n{dir1} vs {dir2} equal:\", is_equal)\n",
    "        if not is_equal:\n",
    "            diff = torch.abs(tensors[dir1] - tensors[dir2]).mean()\n",
    "            print(f\"Mean absolute difference: {diff:.6f}\")"
   ]
  },
  {
   "cell_type": "markdown",
   "metadata": {},
   "source": [
    "## There are different min max values for each task\n",
    "\n",
    "To normalize raw embeddings to the ranges best suited to train the predictive model based in the natural ranges of each property/task"
   ]
  },
  {
   "cell_type": "code",
   "execution_count": 9,
   "metadata": {
    "tags": []
   },
   "outputs": [
    {
     "data": {
      "text/plain": [
       "{'temp_Min': array([-1.0107065, -0.8848684, -0.9967965, ..., -0.8216355, -1.0642859,\n",
       "        -0.9903651], dtype=float32),\n",
       " 'temp_Max': array([0.9102785 , 0.8916208 , 0.99005544, ..., 0.87448555, 0.9812699 ,\n",
       "        0.8220415 ], dtype=float32),\n",
       " 'salt_Min': array([-1.0437392 , -0.8454495 , -0.95653987, ..., -0.8225851 ,\n",
       "        -1.0623534 , -0.9820347 ], dtype=float32),\n",
       " 'salt_Max': array([0.87281096, 0.8617154 , 0.8983912 , ..., 0.8534491 , 0.9217443 ,\n",
       "        0.7613497 ], dtype=float32),\n",
       " 'pH_Min': array([-1.0453855 , -0.9161436 , -0.96290076, ..., -0.8216355 ,\n",
       "        -1.0618458 , -0.9613065 ], dtype=float32),\n",
       " 'pH_Max': array([0.8911413 , 0.8535615 , 0.99005544, ..., 0.8374581 , 0.9812699 ,\n",
       "        0.7995495 ], dtype=float32)}"
      ]
     },
     "execution_count": 9,
     "metadata": {},
     "output_type": "execute_result"
    }
   ],
   "source": [
    "import pickle\n",
    "\n",
    "ESM_MIN_MAX = pickle.load(open(\"/home/ec2-user/SageMaker/GeoPoc/GeoPoc/feature_extraction/ESM_Min_Max.pkl\",'rb'))\n",
    "ESM_MIN_MAX"
   ]
  }
 ],
 "metadata": {
  "kernelspec": {
   "display_name": "conda_pytorch_p310",
   "language": "python",
   "name": "conda_pytorch_p310"
  },
  "language_info": {
   "codemirror_mode": {
    "name": "ipython",
    "version": 3
   },
   "file_extension": ".py",
   "mimetype": "text/x-python",
   "name": "python",
   "nbconvert_exporter": "python",
   "pygments_lexer": "ipython3",
   "version": "3.10.14"
  }
 },
 "nbformat": 4,
 "nbformat_minor": 4
}
