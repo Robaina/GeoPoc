{
 "cells": [
  {
   "cell_type": "markdown",
   "metadata": {},
   "source": [
    "# Test GeoPoc docker image\n",
    "\n",
    "GeoPoc uses ESM-2"
   ]
  },
  {
   "cell_type": "markdown",
   "metadata": {},
   "source": [
    "### Compute pdb structures"
   ]
  },
  {
   "cell_type": "code",
   "execution_count": 8,
   "metadata": {
    "tags": []
   },
   "outputs": [],
   "source": [
    "%%bash\n",
    "\n",
    "mkdir -p /home/ec2-user/SageMaker/GeoPoc/tests/features/pdb\n",
    "mkdir -p /home/ec2-user/SageMaker/GeoPoc/tests/features/embedding/temp\n",
    "mkdir -p /home/ec2-user/SageMaker/GeoPoc/tests/features/embedding/pH\n",
    "mkdir -p /home/ec2-user/SageMaker/GeoPoc/tests/features/embedding/salt\n",
    "mkdir -p /home/ec2-user/SageMaker/GeoPoc/tests/features/DSSP\n",
    "sudo chmod -R 777 /home/ec2-user/SageMaker/GeoPoc/tests/features"
   ]
  },
  {
   "cell_type": "code",
   "execution_count": 3,
   "metadata": {
    "tags": []
   },
   "outputs": [
    {
     "name": "stdout",
     "output_type": "stream",
     "text": [
      "\u001b[31mERROR: pip's dependency resolver does not currently take into account all the packages that are installed. This behaviour is the source of the following dependency conflicts.\n",
      "sphinx 8.1.3 requires docutils<0.22,>=0.20, but you have docutils 0.16 which is incompatible.\u001b[0m\u001b[31m\n",
      "\u001b[0m\u001b[33mWARNING: Skipping proteus as it is not installed.\u001b[0m\u001b[33m\n",
      "\u001b[0mBuilding \u001b[36mproteus\u001b[39m (\u001b[39;1m0.0.0\u001b[39;22m)\n",
      "  - Building \u001b[34msdist\u001b[39m\n",
      "  - Built \u001b[32mproteus-0.0.0.tar.gz\u001b[39m\n",
      "  - Building \u001b[34mwheel\u001b[39m\n",
      "  - Built \u001b[32mproteus-0.0.0-py3-none-any.whl\u001b[39m\n",
      "Processing ./dist/proteus-0.0.0-py3-none-any.whl\n",
      "Installing collected packages: proteus\n",
      "Successfully installed proteus-0.0.0\n"
     ]
    }
   ],
   "source": [
    "!cd ../Proteus && pip install -qr requirements.txt\n",
    "!cd ../Proteus && pip uninstall -y proteus && poetry build && pip install dist/proteus-0.0.0-py3-none-any.whl"
   ]
  },
  {
   "cell_type": "markdown",
   "metadata": {},
   "source": [
    "## Fold sequences"
   ]
  },
  {
   "cell_type": "code",
   "execution_count": 18,
   "metadata": {
    "tags": []
   },
   "outputs": [],
   "source": [
    "from proteus.fitness_helpers import run_esmfold\n",
    "\n",
    "pdb_dir = \"/home/ec2-user/SageMaker/GeoPoc/tests/features\"\n",
    "\n",
    "run_esmfold(\n",
    "    fasta_path=\"/home/ec2-user/SageMaker/GeoPoc/GeoPoc/example/test.fasta\",\n",
    "    pdb_output_path=pdb_dir,\n",
    "    cpu_only=False,\n",
    "    docker_image=\"ghcr.io/new-atlantis-labs/esmfold:latest\",\n",
    ")"
   ]
  },
  {
   "cell_type": "markdown",
   "metadata": {},
   "source": [
    "## Run GeoPoc: optimal temperature"
   ]
  },
  {
   "cell_type": "code",
   "execution_count": 11,
   "metadata": {
    "tags": []
   },
   "outputs": [
    {
     "name": "stdout",
     "output_type": "stream",
     "text": [
      "/opt/conda/lib/python3.7/site-packages/Bio/pairwise2.py:283: BiopythonDeprecationWarning: Bio.pairwise2 has been deprecated, and we intend to remove it in a future release of Biopython. As an alternative, please consider using Bio.Align.PairwiseAligner as a replacement, and contact the Biopython developers if you still need the Bio.pairwise2 module.\n",
      "  BiopythonDeprecationWarning,\n",
      "100%|██████████| 1/1 [00:00<00:00,  1.17it/s]\n"
     ]
    }
   ],
   "source": [
    "%%bash\n",
    "\n",
    "docker run --rm --gpus \"all\" \\\n",
    "  -v /home/ec2-user/SageMaker/GeoPoc/tests/:/app/GeoPoc/input \\\n",
    "  -v /home/ec2-user/SageMaker/GeoPoc/tests/outputs:/app/GeoPoc/output \\\n",
    "  -v /home/ec2-user/SageMaker/GeoPoc/tests/features:/app/GeoPoc/features \\\n",
    "  ghcr.io/new-atlantis-labs/geopoc:latest \\\n",
    "  -i /app/GeoPoc/input/test.fasta \\\n",
    "  --feature_path /app/GeoPoc/features/ \\\n",
    "  -o /app/GeoPoc/output/ \\\n",
    "  --task temp \\\n",
    "  --gpu 0 2>&1"
   ]
  },
  {
   "cell_type": "markdown",
   "metadata": {},
   "source": [
    "## Optimal pH"
   ]
  },
  {
   "cell_type": "code",
   "execution_count": 9,
   "metadata": {
    "tags": []
   },
   "outputs": [
    {
     "name": "stdout",
     "output_type": "stream",
     "text": [
      "/opt/conda/lib/python3.7/site-packages/Bio/pairwise2.py:283: BiopythonDeprecationWarning: Bio.pairwise2 has been deprecated, and we intend to remove it in a future release of Biopython. As an alternative, please consider using Bio.Align.PairwiseAligner as a replacement, and contact the Biopython developers if you still need the Bio.pairwise2 module.\n",
      "  BiopythonDeprecationWarning,\n",
      "100%|██████████| 1/1 [00:00<00:00, 33.34it/s]\n",
      "100%|██████████| 1/1 [00:01<00:00,  1.95s/it]\n"
     ]
    }
   ],
   "source": [
    "%%bash\n",
    "\n",
    "docker run --rm --gpus \"all\" \\\n",
    "  -v /home/ec2-user/SageMaker/GeoPoc/tests/:/app/GeoPoc/input \\\n",
    "  -v /home/ec2-user/SageMaker/GeoPoc/tests/outputs:/app/GeoPoc/output \\\n",
    "  -v /home/ec2-user/SageMaker/GeoPoc/tests/features:/app/GeoPoc/features \\\n",
    "  ghcr.io/new-atlantis-labs/geopoc:latest \\\n",
    "  -i /app/GeoPoc/input/test.fasta \\\n",
    "  --feature_path /app/GeoPoc/features/ \\\n",
    "  -o /app/GeoPoc/output/ \\\n",
    "  --task pH \\\n",
    "  --gpu 0 2>&1"
   ]
  },
  {
   "cell_type": "markdown",
   "metadata": {},
   "source": [
    "## Optimal Salt Concentration"
   ]
  },
  {
   "cell_type": "code",
   "execution_count": 10,
   "metadata": {
    "tags": []
   },
   "outputs": [
    {
     "name": "stdout",
     "output_type": "stream",
     "text": [
      "/opt/conda/lib/python3.7/site-packages/Bio/pairwise2.py:283: BiopythonDeprecationWarning: Bio.pairwise2 has been deprecated, and we intend to remove it in a future release of Biopython. As an alternative, please consider using Bio.Align.PairwiseAligner as a replacement, and contact the Biopython developers if you still need the Bio.pairwise2 module.\n",
      "  BiopythonDeprecationWarning,\n",
      "100%|██████████| 1/1 [00:00<00:00, 97.28it/s]\n",
      "100%|██████████| 1/1 [00:00<00:00,  1.14it/s]\n"
     ]
    }
   ],
   "source": [
    "%%bash\n",
    "\n",
    "docker run --rm --gpus \"all\" \\\n",
    "  -v /home/ec2-user/SageMaker/GeoPoc/tests/:/app/GeoPoc/input \\\n",
    "  -v /home/ec2-user/SageMaker/GeoPoc/tests/outputs:/app/GeoPoc/output \\\n",
    "  -v /home/ec2-user/SageMaker/GeoPoc/tests/features:/app/GeoPoc/features \\\n",
    "  ghcr.io/new-atlantis-labs/geopoc:latest \\\n",
    "  -i /app/GeoPoc/input/test.fasta \\\n",
    "  --feature_path /app/GeoPoc/features/ \\\n",
    "  -o /app/GeoPoc/output/ \\\n",
    "  --task salt \\\n",
    "  --gpu 0 2>&1"
   ]
  },
  {
   "cell_type": "markdown",
   "metadata": {},
   "source": [
    "## Check ESM-2 embeddings\n",
    "\n",
    "Default: esm2_t36_3B_UR50D, repr_layers 36, per_tok"
   ]
  },
  {
   "cell_type": "code",
   "execution_count": 2,
   "metadata": {
    "tags": []
   },
   "outputs": [
    {
     "data": {
      "text/plain": [
       "{'label': 'A0A2P5KBM8',\n",
       " 'representations': {36: tensor([[-0.0092, -0.2994, -0.0446,  ..., -0.1057, -0.0994,  0.0472],\n",
       "          [ 0.0281, -0.2679,  0.0986,  ..., -0.0202, -0.0519,  0.1983],\n",
       "          [-0.0282, -0.2964, -0.0660,  ..., -0.0505, -0.1806,  0.0681],\n",
       "          ...,\n",
       "          [-0.1459, -0.0200,  0.0344,  ...,  0.0357, -0.1755,  0.0262],\n",
       "          [-0.1893,  0.0585, -0.0425,  ...,  0.0749, -0.1993,  0.0551],\n",
       "          [-0.1980,  0.0546, -0.0686,  ..., -0.1147, -0.2503, -0.0083]])}}"
      ]
     },
     "execution_count": 2,
     "metadata": {},
     "output_type": "execute_result"
    }
   ],
   "source": [
    "import torch\n",
    "\n",
    "master_emb_path = \"tests/features/embedding/A0A2P5KBM8.pt\"\n",
    "master_emb = torch.load(master_emb_path)\n",
    "master_emb"
   ]
  },
  {
   "cell_type": "code",
   "execution_count": 7,
   "metadata": {
    "tags": []
   },
   "outputs": [
    {
     "data": {
      "text/plain": [
       "torch.Size([330, 2560])"
      ]
     },
     "execution_count": 7,
     "metadata": {},
     "output_type": "execute_result"
    }
   ],
   "source": [
    "master_emb[\"representations\"][36].shape"
   ]
  },
  {
   "cell_type": "code",
   "execution_count": 1,
   "metadata": {
    "tags": []
   },
   "outputs": [
    {
     "data": {
      "text/plain": [
       "tensor([[0.5213, 0.3295, 0.4792,  ..., 0.4221, 0.4717, 0.5725],\n",
       "        [0.5408, 0.3473, 0.5513,  ..., 0.4725, 0.4949, 0.6559],\n",
       "        [0.5115, 0.3313, 0.4685,  ..., 0.4546, 0.4320, 0.5840],\n",
       "        ...,\n",
       "        [0.4502, 0.4869, 0.5190,  ..., 0.5055, 0.4345, 0.5609],\n",
       "        [0.4276, 0.5310, 0.4803,  ..., 0.5286, 0.4228, 0.5769],\n",
       "        [0.4231, 0.5288, 0.4672,  ..., 0.4168, 0.3979, 0.5419]])"
      ]
     },
     "execution_count": 1,
     "metadata": {},
     "output_type": "execute_result"
    }
   ],
   "source": [
    "import torch\n",
    "\n",
    "emb_path = \"tests/features/embedding/temp/A0A2P5KBM8.tensor\"\n",
    "embeddings = torch.load(emb_path)\n",
    "embeddings"
   ]
  },
  {
   "cell_type": "code",
   "execution_count": 3,
   "metadata": {
    "tags": []
   },
   "outputs": [
    {
     "data": {
      "text/plain": [
       "torch.Size([330, 2560])"
      ]
     },
     "execution_count": 3,
     "metadata": {},
     "output_type": "execute_result"
    }
   ],
   "source": [
    "embeddings.shape"
   ]
  },
  {
   "cell_type": "code",
   "execution_count": 8,
   "metadata": {
    "tags": []
   },
   "outputs": [
    {
     "name": "stdout",
     "output_type": "stream",
     "text": [
      "\n",
      "temp tensor shape: torch.Size([330, 2560])\n",
      "temp stats - mean: 0.498779, std: 0.072624\n",
      "\n",
      "pH tensor shape: torch.Size([330, 2560])\n",
      "pH stats - mean: 0.499010, std: 0.073043\n",
      "\n",
      "salt tensor shape: torch.Size([330, 2560])\n",
      "salt stats - mean: 0.498744, std: 0.073552\n",
      "\n",
      "temp vs pH equal: False\n",
      "Mean absolute difference: 0.011842\n",
      "\n",
      "temp vs salt equal: False\n",
      "Mean absolute difference: 0.013285\n",
      "\n",
      "pH vs salt equal: False\n",
      "Mean absolute difference: 0.012708\n"
     ]
    }
   ],
   "source": [
    "import torch\n",
    "from pathlib import Path\n",
    "\n",
    "# Define paths\n",
    "base_path = \"tests/features/embedding\"\n",
    "protein_id = \"A0A2P5KBM8\"\n",
    "dirs = ['temp', 'pH', 'salt']\n",
    "\n",
    "# Load tensors\n",
    "tensors = {}\n",
    "for dir_name in dirs:\n",
    "    path = Path(base_path) / dir_name / f\"{protein_id}.tensor\"\n",
    "    tensors[dir_name] = torch.load(path)\n",
    "    print(f\"\\n{dir_name} tensor shape:\", tensors[dir_name].shape)\n",
    "    print(f\"{dir_name} stats - mean: {tensors[dir_name].mean():.6f}, std: {tensors[dir_name].std():.6f}\")\n",
    "\n",
    "# Compare pairs\n",
    "for i, dir1 in enumerate(dirs):\n",
    "    for dir2 in dirs[i+1:]:\n",
    "        is_equal = torch.equal(tensors[dir1], tensors[dir2])\n",
    "        print(f\"\\n{dir1} vs {dir2} equal:\", is_equal)\n",
    "        if not is_equal:\n",
    "            diff = torch.abs(tensors[dir1] - tensors[dir2]).mean()\n",
    "            print(f\"Mean absolute difference: {diff:.6f}\")"
   ]
  },
  {
   "cell_type": "markdown",
   "metadata": {},
   "source": [
    "## There are different min max values for each task\n",
    "\n",
    "To normalize raw embeddings to the ranges best suited to train the predictive model based in the natural ranges of each property/task"
   ]
  },
  {
   "cell_type": "code",
   "execution_count": 9,
   "metadata": {
    "tags": []
   },
   "outputs": [
    {
     "data": {
      "text/plain": [
       "{'temp_Min': array([-1.0107065, -0.8848684, -0.9967965, ..., -0.8216355, -1.0642859,\n",
       "        -0.9903651], dtype=float32),\n",
       " 'temp_Max': array([0.9102785 , 0.8916208 , 0.99005544, ..., 0.87448555, 0.9812699 ,\n",
       "        0.8220415 ], dtype=float32),\n",
       " 'salt_Min': array([-1.0437392 , -0.8454495 , -0.95653987, ..., -0.8225851 ,\n",
       "        -1.0623534 , -0.9820347 ], dtype=float32),\n",
       " 'salt_Max': array([0.87281096, 0.8617154 , 0.8983912 , ..., 0.8534491 , 0.9217443 ,\n",
       "        0.7613497 ], dtype=float32),\n",
       " 'pH_Min': array([-1.0453855 , -0.9161436 , -0.96290076, ..., -0.8216355 ,\n",
       "        -1.0618458 , -0.9613065 ], dtype=float32),\n",
       " 'pH_Max': array([0.8911413 , 0.8535615 , 0.99005544, ..., 0.8374581 , 0.9812699 ,\n",
       "        0.7995495 ], dtype=float32)}"
      ]
     },
     "execution_count": 9,
     "metadata": {},
     "output_type": "execute_result"
    }
   ],
   "source": [
    "import pickle\n",
    "\n",
    "ESM_MIN_MAX = pickle.load(open(\"/home/ec2-user/SageMaker/GeoPoc/GeoPoc/feature_extraction/ESM_Min_Max.pkl\",'rb'))\n",
    "ESM_MIN_MAX"
   ]
  },
  {
   "cell_type": "markdown",
   "metadata": {},
   "source": [
    "## Run GeoPoc with input structures and embeddings"
   ]
  },
  {
   "cell_type": "code",
   "execution_count": 3,
   "metadata": {
    "tags": []
   },
   "outputs": [],
   "source": [
    "%%bash\n",
    "\n",
    "mkdir -p /home/ec2-user/SageMaker/GeoPoc/test_emb/features/pdb\n",
    "mkdir -p /home/ec2-user/SageMaker/GeoPoc/test_emb/features/embedding/temp\n",
    "mkdir -p /home/ec2-user/SageMaker/GeoPoc/test_emb/features/embedding/pH\n",
    "mkdir -p /home/ec2-user/SageMaker/GeoPoc/test_emb/features/embedding/salt\n",
    "mkdir -p /home/ec2-user/SageMaker/GeoPoc/test_emb/features/DSSP\n",
    "sudo chmod -R 777 /home/ec2-user/SageMaker/GeoPoc/test_emb/features\n",
    "\n",
    "cp /home/ec2-user/SageMaker/mangrove-plastic-degrading/data/protein_sequences_plastic_degrading_clean/Impranil.faa /home/ec2-user/SageMaker/GeoPoc/test_emb/\n",
    "\n",
    "cp /home/ec2-user/SageMaker/mangrove-plastic-degrading/outputs/embeddings/Impranil/* /home/ec2-user/SageMaker/GeoPoc/test_emb/features/embedding/\n",
    "\n",
    "cp /home/ec2-user/SageMaker/mangrove-plastic-degrading/outputs/structures/Impranil/* /home/ec2-user/SageMaker/GeoPoc/test_emb/features/pdb/"
   ]
  },
  {
   "cell_type": "code",
   "execution_count": 1,
   "metadata": {
    "tags": []
   },
   "outputs": [
    {
     "name": "stdout",
     "output_type": "stream",
     "text": [
      "/opt/conda/lib/python3.7/site-packages/Bio/pairwise2.py:283: BiopythonDeprecationWarning: Bio.pairwise2 has been deprecated, and we intend to remove it in a future release of Biopython. As an alternative, please consider using Bio.Align.PairwiseAligner as a replacement, and contact the Biopython developers if you still need the Bio.pairwise2 module.\n",
      "  BiopythonDeprecationWarning,\n",
      "100%|██████████| 11/11 [00:55<00:00,  5.06s/it]\n"
     ]
    }
   ],
   "source": [
    "%%bash\n",
    "\n",
    "docker run --rm --gpus \"all\" \\\n",
    "  -v /home/ec2-user/SageMaker/GeoPoc/test_emb/:/app/GeoPoc/input \\\n",
    "  -v /home/ec2-user/SageMaker/GeoPoc/test_emb/outputs_emb:/app/GeoPoc/output \\\n",
    "  -v /home/ec2-user/SageMaker/GeoPoc/test_emb/features:/app/GeoPoc/features \\\n",
    "  -v /home/ec2-user/SageMaker/GeoPoc/GeoPoc/model:/app/GeoPoc/models \\\n",
    "  ghcr.io/new-atlantis-labs/geopoc:latest \\\n",
    "  -i /app/GeoPoc/input/Impranil.faa \\\n",
    "  --feature_path /app/GeoPoc/features/ \\\n",
    "  -o /app/GeoPoc/output/ \\\n",
    "  --task temp \\\n",
    "  --model_path /app/GeoPoc/models/ \\\n",
    "  --gpu 0 2>&1"
   ]
  },
  {
   "cell_type": "code",
   "execution_count": 7,
   "metadata": {
    "tags": []
   },
   "outputs": [
    {
     "name": "stdout",
     "output_type": "stream",
     "text": [
      "/opt/conda/lib/python3.7/site-packages/Bio/pairwise2.py:283: BiopythonDeprecationWarning: Bio.pairwise2 has been deprecated, and we intend to remove it in a future release of Biopython. As an alternative, please consider using Bio.Align.PairwiseAligner as a replacement, and contact the Biopython developers if you still need the Bio.pairwise2 module.\n",
      "  BiopythonDeprecationWarning,\n",
      "100%|██████████| 11/11 [00:00<00:00, 155.16it/s]\n",
      "100%|██████████| 11/11 [00:02<00:00,  5.42it/s]\n"
     ]
    }
   ],
   "source": [
    "%%bash\n",
    "\n",
    "docker run --rm --gpus \"all\" \\\n",
    "  -v /home/ec2-user/SageMaker/GeoPoc/test_emb/:/app/GeoPoc/input \\\n",
    "  -v /home/ec2-user/SageMaker/GeoPoc/test_emb/outputs_emb:/app/GeoPoc/output \\\n",
    "  -v /home/ec2-user/SageMaker/GeoPoc/test_emb/features:/app/GeoPoc/features \\\n",
    "  -v /home/ec2-user/SageMaker/GeoPoc/GeoPoc/model:/app/GeoPoc/models \\\n",
    "  ghcr.io/new-atlantis-labs/geopoc:latest \\\n",
    "  -i /app/GeoPoc/input/Impranil.faa \\\n",
    "  --feature_path /app/GeoPoc/features/ \\\n",
    "  -o /app/GeoPoc/output/ \\\n",
    "  --task salt \\\n",
    "  --model_path /app/GeoPoc/models/ \\\n",
    "  --gpu 0 2>&1"
   ]
  },
  {
   "cell_type": "code",
   "execution_count": 3,
   "metadata": {
    "tags": []
   },
   "outputs": [
    {
     "name": "stdout",
     "output_type": "stream",
     "text": [
      "/opt/conda/lib/python3.7/site-packages/Bio/pairwise2.py:283: BiopythonDeprecationWarning: Bio.pairwise2 has been deprecated, and we intend to remove it in a future release of Biopython. As an alternative, please consider using Bio.Align.PairwiseAligner as a replacement, and contact the Biopython developers if you still need the Bio.pairwise2 module.\n",
      "  BiopythonDeprecationWarning,\n",
      "100%|██████████| 11/11 [00:01<00:00,  8.54it/s]\n",
      "100%|██████████| 11/11 [00:01<00:00,  6.00it/s]\n"
     ]
    }
   ],
   "source": [
    "%%bash\n",
    "\n",
    "docker run --rm --gpus \"all\" \\\n",
    "  -v /home/ec2-user/SageMaker/GeoPoc/test_emb/:/app/GeoPoc/input \\\n",
    "  -v /home/ec2-user/SageMaker/GeoPoc/test_emb/outputs_emb:/app/GeoPoc/output \\\n",
    "  -v /home/ec2-user/SageMaker/GeoPoc/test_emb/features:/app/GeoPoc/features \\\n",
    "  -v /home/ec2-user/SageMaker/GeoPoc/GeoPoc/model:/app/GeoPoc/models \\\n",
    "  ghcr.io/new-atlantis-labs/geopoc:latest \\\n",
    "  -i /app/GeoPoc/input/Impranil.faa \\\n",
    "  --feature_path /app/GeoPoc/features/ \\\n",
    "  -o /app/GeoPoc/output/ \\\n",
    "  --task pH \\\n",
    "  --model_path /app/GeoPoc/models/ \\\n",
    "  --gpu 0 2>&1"
   ]
  },
  {
   "cell_type": "code",
   "execution_count": 6,
   "metadata": {
    "tags": []
   },
   "outputs": [],
   "source": [
    "%%bash\n",
    "\n",
    "cp -r test_emb test_emb_mini"
   ]
  },
  {
   "cell_type": "code",
   "execution_count": 8,
   "metadata": {
    "tags": []
   },
   "outputs": [
    {
     "name": "stdout",
     "output_type": "stream",
     "text": [
      "/opt/conda/lib/python3.7/site-packages/Bio/pairwise2.py:283: BiopythonDeprecationWarning: Bio.pairwise2 has been deprecated, and we intend to remove it in a future release of Biopython. As an alternative, please consider using Bio.Align.PairwiseAligner as a replacement, and contact the Biopython developers if you still need the Bio.pairwise2 module.\n",
      "  BiopythonDeprecationWarning,\n",
      "25/03/05 17:42:02 | INFO | root | Reading sequences from /app/GeoPoc/input/Impranil.faa\n",
      "25/03/05 17:42:02 | INFO | root | Loaded 11 sequences from /app/GeoPoc/input/Impranil.faa\n",
      "25/03/05 17:42:02 | INFO | root | Loading model\n",
      "Error while terminating subprocess (pid=8447): \n"
     ]
    },
    {
     "ename": "TypeError",
     "evalue": "%d format: a real number is required, not NoneType",
     "output_type": "error",
     "traceback": [
      "\u001b[0;31m---------------------------------------------------------------------------\u001b[0m",
      "\u001b[0;31mCalledProcessError\u001b[0m                        Traceback (most recent call last)",
      "    \u001b[0;31m[... skipping hidden 1 frame]\u001b[0m\n",
      "Cell \u001b[0;32mIn[8], line 1\u001b[0m\n\u001b[0;32m----> 1\u001b[0m \u001b[43mget_ipython\u001b[49m\u001b[43m(\u001b[49m\u001b[43m)\u001b[49m\u001b[38;5;241;43m.\u001b[39;49m\u001b[43mrun_cell_magic\u001b[49m\u001b[43m(\u001b[49m\u001b[38;5;124;43m'\u001b[39;49m\u001b[38;5;124;43mbash\u001b[39;49m\u001b[38;5;124;43m'\u001b[39;49m\u001b[43m,\u001b[49m\u001b[43m \u001b[49m\u001b[38;5;124;43m'\u001b[39;49m\u001b[38;5;124;43m'\u001b[39;49m\u001b[43m,\u001b[49m\u001b[43m \u001b[49m\u001b[38;5;124;43m'\u001b[39;49m\u001b[38;5;130;43;01m\\n\u001b[39;49;00m\u001b[38;5;124;43mMODELDIR=\u001b[39;49m\u001b[38;5;124;43m\"\u001b[39;49m\u001b[38;5;124;43m/home/ec2-user/SageMaker/models\u001b[39;49m\u001b[38;5;124;43m\"\u001b[39;49m\u001b[38;5;130;43;01m\\n\u001b[39;49;00m\u001b[38;5;130;43;01m\\n\u001b[39;49;00m\u001b[38;5;124;43mdocker run --rm --gpus \u001b[39;49m\u001b[38;5;124;43m\"\u001b[39;49m\u001b[38;5;124;43mall\u001b[39;49m\u001b[38;5;124;43m\"\u001b[39;49m\u001b[38;5;124;43m \u001b[39;49m\u001b[38;5;130;43;01m\\\\\u001b[39;49;00m\u001b[38;5;130;43;01m\\n\u001b[39;49;00m\u001b[38;5;124;43m  -v /home/ec2-user/SageMaker/GeoPoc/test_emb_mini/:/app/GeoPoc/input \u001b[39;49m\u001b[38;5;130;43;01m\\\\\u001b[39;49;00m\u001b[38;5;130;43;01m\\n\u001b[39;49;00m\u001b[38;5;124;43m  -v /home/ec2-user/SageMaker/GeoPoc/test_emb_mini/outputs_emb:/app/GeoPoc/output \u001b[39;49m\u001b[38;5;130;43;01m\\\\\u001b[39;49;00m\u001b[38;5;130;43;01m\\n\u001b[39;49;00m\u001b[38;5;124;43m  -v /home/ec2-user/SageMaker/GeoPoc/test_emb_mini/features:/app/GeoPoc/features \u001b[39;49m\u001b[38;5;130;43;01m\\\\\u001b[39;49;00m\u001b[38;5;130;43;01m\\n\u001b[39;49;00m\u001b[38;5;124;43m  -v /home/ec2-user/SageMaker/GeoPoc/GeoPoc/model:/app/GeoPoc/models \u001b[39;49m\u001b[38;5;130;43;01m\\\\\u001b[39;49;00m\u001b[38;5;130;43;01m\\n\u001b[39;49;00m\u001b[38;5;124;43m  -v \u001b[39;49m\u001b[38;5;124;43m\"\u001b[39;49m\u001b[38;5;124;43m$\u001b[39;49m\u001b[38;5;132;43;01m{MODELDIR}\u001b[39;49;00m\u001b[38;5;124;43m:/root/.cache/torch/hub/checkpoints\u001b[39;49m\u001b[38;5;124;43m\"\u001b[39;49m\u001b[38;5;124;43m \u001b[39;49m\u001b[38;5;130;43;01m\\\\\u001b[39;49;00m\u001b[38;5;130;43;01m\\n\u001b[39;49;00m\u001b[38;5;124;43m  ghcr.io/new-atlantis-labs/geopoc:latest \u001b[39;49m\u001b[38;5;130;43;01m\\\\\u001b[39;49;00m\u001b[38;5;130;43;01m\\n\u001b[39;49;00m\u001b[38;5;124;43m  -i /app/GeoPoc/input/Impranil.faa \u001b[39;49m\u001b[38;5;130;43;01m\\\\\u001b[39;49;00m\u001b[38;5;130;43;01m\\n\u001b[39;49;00m\u001b[38;5;124;43m  --feature_path /app/GeoPoc/features/ \u001b[39;49m\u001b[38;5;130;43;01m\\\\\u001b[39;49;00m\u001b[38;5;130;43;01m\\n\u001b[39;49;00m\u001b[38;5;124;43m  -o /app/GeoPoc/output/ \u001b[39;49m\u001b[38;5;130;43;01m\\\\\u001b[39;49;00m\u001b[38;5;130;43;01m\\n\u001b[39;49;00m\u001b[38;5;124;43m  --task temp \u001b[39;49m\u001b[38;5;130;43;01m\\\\\u001b[39;49;00m\u001b[38;5;130;43;01m\\n\u001b[39;49;00m\u001b[38;5;124;43m  --model_path /app/GeoPoc/models/ \u001b[39;49m\u001b[38;5;130;43;01m\\\\\u001b[39;49;00m\u001b[38;5;130;43;01m\\n\u001b[39;49;00m\u001b[38;5;124;43m  --gpu 0 2>&1\u001b[39;49m\u001b[38;5;130;43;01m\\n\u001b[39;49;00m\u001b[38;5;124;43m'\u001b[39;49m\u001b[43m)\u001b[49m\n",
      "File \u001b[0;32m~/anaconda3/envs/pytorch_p310/lib/python3.10/site-packages/IPython/core/interactiveshell.py:2543\u001b[0m, in \u001b[0;36mInteractiveShell.run_cell_magic\u001b[0;34m(self, magic_name, line, cell)\u001b[0m\n\u001b[1;32m   2542\u001b[0m     args \u001b[38;5;241m=\u001b[39m (magic_arg_s, cell)\n\u001b[0;32m-> 2543\u001b[0m     result \u001b[38;5;241m=\u001b[39m \u001b[43mfn\u001b[49m\u001b[43m(\u001b[49m\u001b[38;5;241;43m*\u001b[39;49m\u001b[43margs\u001b[49m\u001b[43m,\u001b[49m\u001b[43m \u001b[49m\u001b[38;5;241;43m*\u001b[39;49m\u001b[38;5;241;43m*\u001b[39;49m\u001b[43mkwargs\u001b[49m\u001b[43m)\u001b[49m\n\u001b[1;32m   2545\u001b[0m \u001b[38;5;66;03m# The code below prevents the output from being displayed\u001b[39;00m\n\u001b[1;32m   2546\u001b[0m \u001b[38;5;66;03m# when using magics with decorator @output_can_be_silenced\u001b[39;00m\n\u001b[1;32m   2547\u001b[0m \u001b[38;5;66;03m# when the last Python token in the expression is a ';'.\u001b[39;00m\n",
      "File \u001b[0;32m~/anaconda3/envs/pytorch_p310/lib/python3.10/site-packages/IPython/core/magics/script.py:159\u001b[0m, in \u001b[0;36mScriptMagics._make_script_magic.<locals>.named_script_magic\u001b[0;34m(line, cell)\u001b[0m\n\u001b[1;32m    158\u001b[0m     line \u001b[38;5;241m=\u001b[39m script\n\u001b[0;32m--> 159\u001b[0m \u001b[38;5;28;01mreturn\u001b[39;00m \u001b[38;5;28;43mself\u001b[39;49m\u001b[38;5;241;43m.\u001b[39;49m\u001b[43mshebang\u001b[49m\u001b[43m(\u001b[49m\u001b[43mline\u001b[49m\u001b[43m,\u001b[49m\u001b[43m \u001b[49m\u001b[43mcell\u001b[49m\u001b[43m)\u001b[49m\n",
      "File \u001b[0;32m~/anaconda3/envs/pytorch_p310/lib/python3.10/site-packages/IPython/core/magics/script.py:327\u001b[0m, in \u001b[0;36mScriptMagics.shebang\u001b[0;34m(self, line, cell)\u001b[0m\n\u001b[1;32m    326\u001b[0m \u001b[38;5;28;01mif\u001b[39;00m args\u001b[38;5;241m.\u001b[39mraise_error:\n\u001b[0;32m--> 327\u001b[0m     \u001b[38;5;28;01mraise\u001b[39;00m CalledProcessError(p\u001b[38;5;241m.\u001b[39mreturncode, cell) \u001b[38;5;28;01mfrom\u001b[39;00m\u001b[38;5;250m \u001b[39m\u001b[38;5;28;01mNone\u001b[39;00m\n\u001b[1;32m    328\u001b[0m \u001b[38;5;28;01melse\u001b[39;00m:\n",
      "\u001b[0;31m<class 'str'>\u001b[0m: (<class 'TypeError'>, TypeError('%d format: a real number is required, not NoneType'))",
      "\nDuring handling of the above exception, another exception occurred:\n",
      "\u001b[0;31mTypeError\u001b[0m                                 Traceback (most recent call last)",
      "    \u001b[0;31m[... skipping hidden 1 frame]\u001b[0m\n",
      "File \u001b[0;32m~/anaconda3/envs/pytorch_p310/lib/python3.10/site-packages/IPython/core/interactiveshell.py:2181\u001b[0m, in \u001b[0;36mInteractiveShell.showtraceback\u001b[0;34m(self, exc_tuple, filename, tb_offset, exception_only, running_compiled_code)\u001b[0m\n\u001b[1;32m   2178\u001b[0m         traceback\u001b[38;5;241m.\u001b[39mprint_exc()\n\u001b[1;32m   2179\u001b[0m         \u001b[38;5;28;01mreturn\u001b[39;00m \u001b[38;5;28;01mNone\u001b[39;00m\n\u001b[0;32m-> 2181\u001b[0m     \u001b[38;5;28;43mself\u001b[39;49m\u001b[38;5;241;43m.\u001b[39;49m\u001b[43m_showtraceback\u001b[49m\u001b[43m(\u001b[49m\u001b[43metype\u001b[49m\u001b[43m,\u001b[49m\u001b[43m \u001b[49m\u001b[43mvalue\u001b[49m\u001b[43m,\u001b[49m\u001b[43m \u001b[49m\u001b[43mstb\u001b[49m\u001b[43m)\u001b[49m\n\u001b[1;32m   2182\u001b[0m \u001b[38;5;28;01mif\u001b[39;00m \u001b[38;5;28mself\u001b[39m\u001b[38;5;241m.\u001b[39mcall_pdb:\n\u001b[1;32m   2183\u001b[0m     \u001b[38;5;66;03m# drop into debugger\u001b[39;00m\n\u001b[1;32m   2184\u001b[0m     \u001b[38;5;28mself\u001b[39m\u001b[38;5;241m.\u001b[39mdebugger(force\u001b[38;5;241m=\u001b[39m\u001b[38;5;28;01mTrue\u001b[39;00m)\n",
      "File \u001b[0;32m~/anaconda3/envs/pytorch_p310/lib/python3.10/site-packages/ipykernel/zmqshell.py:559\u001b[0m, in \u001b[0;36mZMQInteractiveShell._showtraceback\u001b[0;34m(self, etype, evalue, stb)\u001b[0m\n\u001b[1;32m    553\u001b[0m sys\u001b[38;5;241m.\u001b[39mstdout\u001b[38;5;241m.\u001b[39mflush()\n\u001b[1;32m    554\u001b[0m sys\u001b[38;5;241m.\u001b[39mstderr\u001b[38;5;241m.\u001b[39mflush()\n\u001b[1;32m    556\u001b[0m exc_content \u001b[38;5;241m=\u001b[39m {\n\u001b[1;32m    557\u001b[0m     \u001b[38;5;124m\"\u001b[39m\u001b[38;5;124mtraceback\u001b[39m\u001b[38;5;124m\"\u001b[39m: stb,\n\u001b[1;32m    558\u001b[0m     \u001b[38;5;124m\"\u001b[39m\u001b[38;5;124mename\u001b[39m\u001b[38;5;124m\"\u001b[39m: \u001b[38;5;28mstr\u001b[39m(etype\u001b[38;5;241m.\u001b[39m\u001b[38;5;18m__name__\u001b[39m),\n\u001b[0;32m--> 559\u001b[0m     \u001b[38;5;124m\"\u001b[39m\u001b[38;5;124mevalue\u001b[39m\u001b[38;5;124m\"\u001b[39m: \u001b[38;5;28;43mstr\u001b[39;49m\u001b[43m(\u001b[49m\u001b[43mevalue\u001b[49m\u001b[43m)\u001b[49m,\n\u001b[1;32m    560\u001b[0m }\n\u001b[1;32m    562\u001b[0m dh \u001b[38;5;241m=\u001b[39m \u001b[38;5;28mself\u001b[39m\u001b[38;5;241m.\u001b[39mdisplayhook\n\u001b[1;32m    563\u001b[0m \u001b[38;5;66;03m# Send exception info over pub socket for other clients than the caller\u001b[39;00m\n\u001b[1;32m    564\u001b[0m \u001b[38;5;66;03m# to pick up\u001b[39;00m\n",
      "File \u001b[0;32m~/anaconda3/envs/pytorch_p310/lib/python3.10/subprocess.py:126\u001b[0m, in \u001b[0;36mCalledProcessError.__str__\u001b[0;34m(self)\u001b[0m\n\u001b[1;32m    123\u001b[0m         \u001b[38;5;28;01mreturn\u001b[39;00m \u001b[38;5;124m\"\u001b[39m\u001b[38;5;124mCommand \u001b[39m\u001b[38;5;124m'\u001b[39m\u001b[38;5;132;01m%s\u001b[39;00m\u001b[38;5;124m'\u001b[39m\u001b[38;5;124m died with unknown signal \u001b[39m\u001b[38;5;132;01m%d\u001b[39;00m\u001b[38;5;124m.\u001b[39m\u001b[38;5;124m\"\u001b[39m \u001b[38;5;241m%\u001b[39m (\n\u001b[1;32m    124\u001b[0m                 \u001b[38;5;28mself\u001b[39m\u001b[38;5;241m.\u001b[39mcmd, \u001b[38;5;241m-\u001b[39m\u001b[38;5;28mself\u001b[39m\u001b[38;5;241m.\u001b[39mreturncode)\n\u001b[1;32m    125\u001b[0m \u001b[38;5;28;01melse\u001b[39;00m:\n\u001b[0;32m--> 126\u001b[0m     \u001b[38;5;28;01mreturn\u001b[39;00m \u001b[38;5;124;43m\"\u001b[39;49m\u001b[38;5;124;43mCommand \u001b[39;49m\u001b[38;5;124;43m'\u001b[39;49m\u001b[38;5;132;43;01m%s\u001b[39;49;00m\u001b[38;5;124;43m'\u001b[39;49m\u001b[38;5;124;43m returned non-zero exit status \u001b[39;49m\u001b[38;5;132;43;01m%d\u001b[39;49;00m\u001b[38;5;124;43m.\u001b[39;49m\u001b[38;5;124;43m\"\u001b[39;49m\u001b[43m \u001b[49m\u001b[38;5;241;43m%\u001b[39;49m\u001b[43m \u001b[49m\u001b[43m(\u001b[49m\n\u001b[1;32m    127\u001b[0m \u001b[43m            \u001b[49m\u001b[38;5;28;43mself\u001b[39;49m\u001b[38;5;241;43m.\u001b[39;49m\u001b[43mcmd\u001b[49m\u001b[43m,\u001b[49m\u001b[43m \u001b[49m\u001b[38;5;28;43mself\u001b[39;49m\u001b[38;5;241;43m.\u001b[39;49m\u001b[43mreturncode\u001b[49m\u001b[43m)\u001b[49m\n",
      "\u001b[0;31mTypeError\u001b[0m: %d format: a real number is required, not NoneType"
     ]
    }
   ],
   "source": [
    "%%bash\n",
    "\n",
    "MODELDIR=\"/home/ec2-user/SageMaker/models\"\n",
    "\n",
    "docker run --rm --gpus \"all\" \\\n",
    "  -v /home/ec2-user/SageMaker/GeoPoc/test_emb_mini/:/app/GeoPoc/input \\\n",
    "  -v /home/ec2-user/SageMaker/GeoPoc/test_emb_mini/outputs_emb:/app/GeoPoc/output \\\n",
    "  -v /home/ec2-user/SageMaker/GeoPoc/test_emb_mini/features:/app/GeoPoc/features \\\n",
    "  -v /home/ec2-user/SageMaker/GeoPoc/GeoPoc/model:/app/GeoPoc/models \\\n",
    "  -v \"${MODELDIR}:/root/.cache/torch/hub/checkpoints\" \\\n",
    "  ghcr.io/new-atlantis-labs/geopoc:latest \\\n",
    "  -i /app/GeoPoc/input/Impranil.faa \\\n",
    "  --feature_path /app/GeoPoc/features/ \\\n",
    "  -o /app/GeoPoc/output/ \\\n",
    "  --task temp \\\n",
    "  --model_path /app/GeoPoc/models/ \\\n",
    "  --gpu 0 2>&1"
   ]
  },
  {
   "cell_type": "code",
   "execution_count": 3,
   "metadata": {
    "tags": []
   },
   "outputs": [
    {
     "name": "stdout",
     "output_type": "stream",
     "text": [
      "Copying PDB structures...\n",
      "No tensor files found in PDB dir\n",
      "Copying embedding files...\n",
      "No tensor files found in embedding dir\n",
      "Running old GeoPoc Docker image...\n"
     ]
    },
    {
     "name": "stderr",
     "output_type": "stream",
     "text": [
      "/opt/conda/lib/python3.7/site-packages/Bio/pairwise2.py:283: BiopythonDeprecationWarning: Bio.pairwise2 has been deprecated, and we intend to remove it in a future release of Biopython. As an alternative, please consider using Bio.Align.PairwiseAligner as a replacement, and contact the Biopython developers if you still need the Bio.pairwise2 module.\n",
      "  BiopythonDeprecationWarning,\n"
     ]
    },
    {
     "name": "stdout",
     "output_type": "stream",
     "text": [
      "25/03/06 18:14:57 | INFO | root | Reading sequences from /app/GeoPoc/input/PET.faa\n",
      "25/03/06 18:14:57 | INFO | root | Loaded 2 sequences from /app/GeoPoc/input/PET.faa\n",
      "25/03/06 18:14:57 | INFO | root | Loading model\n",
      "Error while terminating subprocess (pid=8684): \n"
     ]
    },
    {
     "ename": "TypeError",
     "evalue": "%d format: a real number is required, not NoneType",
     "output_type": "error",
     "traceback": [
      "\u001b[0;31m---------------------------------------------------------------------------\u001b[0m",
      "\u001b[0;31mCalledProcessError\u001b[0m                        Traceback (most recent call last)",
      "    \u001b[0;31m[... skipping hidden 1 frame]\u001b[0m\n",
      "Cell \u001b[0;32mIn[3], line 1\u001b[0m\n\u001b[0;32m----> 1\u001b[0m \u001b[43mget_ipython\u001b[49m\u001b[43m(\u001b[49m\u001b[43m)\u001b[49m\u001b[38;5;241;43m.\u001b[39;49m\u001b[43mrun_cell_magic\u001b[49m\u001b[43m(\u001b[49m\u001b[38;5;124;43m'\u001b[39;49m\u001b[38;5;124;43mbash\u001b[39;49m\u001b[38;5;124;43m'\u001b[39;49m\u001b[43m,\u001b[49m\u001b[43m \u001b[49m\u001b[38;5;124;43m'\u001b[39;49m\u001b[38;5;124;43m'\u001b[39;49m\u001b[43m,\u001b[49m\u001b[43m \u001b[49m\u001b[38;5;124;43m'\u001b[39;49m\u001b[38;5;130;43;01m\\n\u001b[39;49;00m\u001b[38;5;124;43m# Base directories\u001b[39;49m\u001b[38;5;130;43;01m\\n\u001b[39;49;00m\u001b[38;5;124;43mWORKDIR=\u001b[39;49m\u001b[38;5;124;43m\"\u001b[39;49m\u001b[38;5;124;43m/home/ec2-user/SageMaker/mangrove-plastic-degrading\u001b[39;49m\u001b[38;5;124;43m\"\u001b[39;49m\u001b[38;5;130;43;01m\\n\u001b[39;49;00m\u001b[38;5;124;43mBASE_DIR=\u001b[39;49m\u001b[38;5;124;43m\"\u001b[39;49m\u001b[38;5;124;43m/home/ec2-user/SageMaker/GeoPoc/test_new_image\u001b[39;49m\u001b[38;5;124;43m\"\u001b[39;49m\u001b[38;5;130;43;01m\\n\u001b[39;49;00m\u001b[38;5;124;43mSEQUENCES_DIR=\u001b[39;49m\u001b[38;5;124;43m\"\u001b[39;49m\u001b[38;5;124;43m$\u001b[39;49m\u001b[38;5;132;43;01m{WORKDIR}\u001b[39;49;00m\u001b[38;5;124;43m/tests/data\u001b[39;49m\u001b[38;5;124;43m\"\u001b[39;49m\u001b[38;5;130;43;01m\\n\u001b[39;49;00m\u001b[38;5;124;43mSTRUCTURES_DIR=\u001b[39;49m\u001b[38;5;124;43m\"\u001b[39;49m\u001b[38;5;124;43m$\u001b[39;49m\u001b[38;5;132;43;01m{WORKDIR}\u001b[39;49;00m\u001b[38;5;124;43m/tests/outputs/structures\u001b[39;49m\u001b[38;5;124;43m\"\u001b[39;49m\u001b[38;5;130;43;01m\\n\u001b[39;49;00m\u001b[38;5;124;43mEMBEDDINGS_DIR=\u001b[39;49m\u001b[38;5;124;43m\"\u001b[39;49m\u001b[38;5;124;43m$\u001b[39;49m\u001b[38;5;132;43;01m{WORKDIR}\u001b[39;49;00m\u001b[38;5;124;43m/tests/outputs/embeddings\u001b[39;49m\u001b[38;5;124;43m\"\u001b[39;49m\u001b[38;5;130;43;01m\\n\u001b[39;49;00m\u001b[38;5;124;43mMODELDIR=\u001b[39;49m\u001b[38;5;124;43m\"\u001b[39;49m\u001b[38;5;124;43m/home/ec2-user/SageMaker/models\u001b[39;49m\u001b[38;5;124;43m\"\u001b[39;49m\u001b[38;5;130;43;01m\\n\u001b[39;49;00m\u001b[38;5;124;43mGEOPOC_MODEL_PATH=\u001b[39;49m\u001b[38;5;124;43m\"\u001b[39;49m\u001b[38;5;124;43m$\u001b[39;49m\u001b[38;5;132;43;01m{MODELDIR}\u001b[39;49;00m\u001b[38;5;124;43m/geopoc\u001b[39;49m\u001b[38;5;124;43m\"\u001b[39;49m\u001b[38;5;130;43;01m\\n\u001b[39;49;00m\u001b[38;5;130;43;01m\\n\u001b[39;49;00m\u001b[38;5;124;43m# Input specifics\u001b[39;49m\u001b[38;5;130;43;01m\\n\u001b[39;49;00m\u001b[38;5;124;43mBASE_NAME=\u001b[39;49m\u001b[38;5;124;43m\"\u001b[39;49m\u001b[38;5;124;43mPET\u001b[39;49m\u001b[38;5;124;43m\"\u001b[39;49m\u001b[38;5;130;43;01m\\n\u001b[39;49;00m\u001b[38;5;124;43mTASK=\u001b[39;49m\u001b[38;5;124;43m\"\u001b[39;49m\u001b[38;5;124;43mtemp\u001b[39;49m\u001b[38;5;124;43m\"\u001b[39;49m\u001b[38;5;130;43;01m\\n\u001b[39;49;00m\u001b[38;5;124;43mFILENAME=\u001b[39;49m\u001b[38;5;124;43m\"\u001b[39;49m\u001b[38;5;124;43m$\u001b[39;49m\u001b[38;5;132;43;01m{BASE_NAME}\u001b[39;49;00m\u001b[38;5;124;43m.faa\u001b[39;49m\u001b[38;5;124;43m\"\u001b[39;49m\u001b[38;5;130;43;01m\\n\u001b[39;49;00m\u001b[38;5;124;43mFASTA_STRUCTURES_DIR=\u001b[39;49m\u001b[38;5;124;43m\"\u001b[39;49m\u001b[38;5;124;43m$\u001b[39;49m\u001b[38;5;132;43;01m{STRUCTURES_DIR}\u001b[39;49;00m\u001b[38;5;124;43m/$\u001b[39;49m\u001b[38;5;132;43;01m{BASE_NAME}\u001b[39;49;00m\u001b[38;5;124;43m\"\u001b[39;49m\u001b[38;5;130;43;01m\\n\u001b[39;49;00m\u001b[38;5;124;43mFASTA_EMBEDDINGS_DIR=\u001b[39;49m\u001b[38;5;124;43m\"\u001b[39;49m\u001b[38;5;124;43m$\u001b[39;49m\u001b[38;5;132;43;01m{EMBEDDINGS_DIR}\u001b[39;49;00m\u001b[38;5;124;43m/$\u001b[39;49m\u001b[38;5;132;43;01m{BASE_NAME}\u001b[39;49;00m\u001b[38;5;124;43m\"\u001b[39;49m\u001b[38;5;130;43;01m\\n\u001b[39;49;00m\u001b[38;5;130;43;01m\\n\u001b[39;49;00m\u001b[38;5;124;43m# Create test directory structure\u001b[39;49m\u001b[38;5;130;43;01m\\n\u001b[39;49;00m\u001b[38;5;124;43mmkdir -p \u001b[39;49m\u001b[38;5;124;43m\"\u001b[39;49m\u001b[38;5;124;43m$\u001b[39;49m\u001b[38;5;132;43;01m{BASE_DIR}\u001b[39;49;00m\u001b[38;5;124;43m/input\u001b[39;49m\u001b[38;5;124;43m\"\u001b[39;49m\u001b[38;5;130;43;01m\\n\u001b[39;49;00m\u001b[38;5;124;43mmkdir -p \u001b[39;49m\u001b[38;5;124;43m\"\u001b[39;49m\u001b[38;5;124;43m$\u001b[39;49m\u001b[38;5;132;43;01m{BASE_DIR}\u001b[39;49;00m\u001b[38;5;124;43m/output\u001b[39;49m\u001b[38;5;124;43m\"\u001b[39;49m\u001b[38;5;130;43;01m\\n\u001b[39;49;00m\u001b[38;5;124;43mmkdir -p \u001b[39;49m\u001b[38;5;124;43m\"\u001b[39;49m\u001b[38;5;124;43m$\u001b[39;49m\u001b[38;5;132;43;01m{BASE_DIR}\u001b[39;49;00m\u001b[38;5;124;43m/features/pdb\u001b[39;49m\u001b[38;5;124;43m\"\u001b[39;49m\u001b[38;5;130;43;01m\\n\u001b[39;49;00m\u001b[38;5;124;43mmkdir -p \u001b[39;49m\u001b[38;5;124;43m\"\u001b[39;49m\u001b[38;5;124;43m$\u001b[39;49m\u001b[38;5;132;43;01m{BASE_DIR}\u001b[39;49;00m\u001b[38;5;124;43m/features/embedding\u001b[39;49m\u001b[38;5;124;43m\"\u001b[39;49m\u001b[38;5;130;43;01m\\n\u001b[39;49;00m\u001b[38;5;124;43mmkdir -p \u001b[39;49m\u001b[38;5;124;43m\"\u001b[39;49m\u001b[38;5;124;43m$\u001b[39;49m\u001b[38;5;132;43;01m{BASE_DIR}\u001b[39;49;00m\u001b[38;5;124;43m/features/embedding/$\u001b[39;49m\u001b[38;5;132;43;01m{TASK}\u001b[39;49;00m\u001b[38;5;124;43m\"\u001b[39;49m\u001b[38;5;130;43;01m\\n\u001b[39;49;00m\u001b[38;5;124;43mmkdir -p \u001b[39;49m\u001b[38;5;124;43m\"\u001b[39;49m\u001b[38;5;124;43m$\u001b[39;49m\u001b[38;5;132;43;01m{BASE_DIR}\u001b[39;49;00m\u001b[38;5;124;43m/features/DSSP\u001b[39;49m\u001b[38;5;124;43m\"\u001b[39;49m\u001b[38;5;130;43;01m\\n\u001b[39;49;00m\u001b[38;5;130;43;01m\\n\u001b[39;49;00m\u001b[38;5;124;43m# Copy FASTA file\u001b[39;49m\u001b[38;5;130;43;01m\\n\u001b[39;49;00m\u001b[38;5;124;43mcp \u001b[39;49m\u001b[38;5;124;43m\"\u001b[39;49m\u001b[38;5;124;43m$\u001b[39;49m\u001b[38;5;132;43;01m{SEQUENCES_DIR}\u001b[39;49;00m\u001b[38;5;124;43m/$\u001b[39;49m\u001b[38;5;132;43;01m{FILENAME}\u001b[39;49;00m\u001b[38;5;124;43m\"\u001b[39;49m\u001b[38;5;124;43m \u001b[39;49m\u001b[38;5;124;43m\"\u001b[39;49m\u001b[38;5;124;43m$\u001b[39;49m\u001b[38;5;132;43;01m{BASE_DIR}\u001b[39;49;00m\u001b[38;5;124;43m/input/\u001b[39;49m\u001b[38;5;124;43m\"\u001b[39;49m\u001b[38;5;130;43;01m\\n\u001b[39;49;00m\u001b[38;5;130;43;01m\\n\u001b[39;49;00m\u001b[38;5;124;43m# Copy structure files to the features/pdb directory\u001b[39;49m\u001b[38;5;130;43;01m\\n\u001b[39;49;00m\u001b[38;5;124;43mecho \u001b[39;49m\u001b[38;5;124;43m\"\u001b[39;49m\u001b[38;5;124;43mCopying PDB structures...\u001b[39;49m\u001b[38;5;124;43m\"\u001b[39;49m\u001b[38;5;130;43;01m\\n\u001b[39;49;00m\u001b[38;5;124;43mcp $\u001b[39;49m\u001b[38;5;132;43;01m{FASTA_STRUCTURES_DIR}\u001b[39;49;00m\u001b[38;5;124;43m/*.pdb \u001b[39;49m\u001b[38;5;124;43m\"\u001b[39;49m\u001b[38;5;124;43m$\u001b[39;49m\u001b[38;5;132;43;01m{BASE_DIR}\u001b[39;49;00m\u001b[38;5;124;43m/features/pdb/\u001b[39;49m\u001b[38;5;124;43m\"\u001b[39;49m\u001b[38;5;124;43m 2>/dev/null || echo \u001b[39;49m\u001b[38;5;124;43m\"\u001b[39;49m\u001b[38;5;124;43mNo PDB files found\u001b[39;49m\u001b[38;5;124;43m\"\u001b[39;49m\u001b[38;5;130;43;01m\\n\u001b[39;49;00m\u001b[38;5;124;43mcp $\u001b[39;49m\u001b[38;5;132;43;01m{FASTA_STRUCTURES_DIR}\u001b[39;49;00m\u001b[38;5;124;43m/*.tensor \u001b[39;49m\u001b[38;5;124;43m\"\u001b[39;49m\u001b[38;5;124;43m$\u001b[39;49m\u001b[38;5;132;43;01m{BASE_DIR}\u001b[39;49;00m\u001b[38;5;124;43m/features/pdb/\u001b[39;49m\u001b[38;5;124;43m\"\u001b[39;49m\u001b[38;5;124;43m 2>/dev/null || echo \u001b[39;49m\u001b[38;5;124;43m\"\u001b[39;49m\u001b[38;5;124;43mNo tensor files found in PDB dir\u001b[39;49m\u001b[38;5;124;43m\"\u001b[39;49m\u001b[38;5;130;43;01m\\n\u001b[39;49;00m\u001b[38;5;130;43;01m\\n\u001b[39;49;00m\u001b[38;5;124;43m# Copy embedding files to the features/embedding directory\u001b[39;49m\u001b[38;5;130;43;01m\\n\u001b[39;49;00m\u001b[38;5;124;43mecho \u001b[39;49m\u001b[38;5;124;43m\"\u001b[39;49m\u001b[38;5;124;43mCopying embedding files...\u001b[39;49m\u001b[38;5;124;43m\"\u001b[39;49m\u001b[38;5;130;43;01m\\n\u001b[39;49;00m\u001b[38;5;124;43mcp $\u001b[39;49m\u001b[38;5;132;43;01m{FASTA_EMBEDDINGS_DIR}\u001b[39;49;00m\u001b[38;5;124;43m/*.pt \u001b[39;49m\u001b[38;5;124;43m\"\u001b[39;49m\u001b[38;5;124;43m$\u001b[39;49m\u001b[38;5;132;43;01m{BASE_DIR}\u001b[39;49;00m\u001b[38;5;124;43m/features/embedding/\u001b[39;49m\u001b[38;5;124;43m\"\u001b[39;49m\u001b[38;5;124;43m 2>/dev/null || echo \u001b[39;49m\u001b[38;5;124;43m\"\u001b[39;49m\u001b[38;5;124;43mNo PT files found\u001b[39;49m\u001b[38;5;124;43m\"\u001b[39;49m\u001b[38;5;130;43;01m\\n\u001b[39;49;00m\u001b[38;5;124;43mcp $\u001b[39;49m\u001b[38;5;132;43;01m{FASTA_EMBEDDINGS_DIR}\u001b[39;49;00m\u001b[38;5;124;43m/*.tensor \u001b[39;49m\u001b[38;5;124;43m\"\u001b[39;49m\u001b[38;5;124;43m$\u001b[39;49m\u001b[38;5;132;43;01m{BASE_DIR}\u001b[39;49;00m\u001b[38;5;124;43m/features/embedding/$\u001b[39;49m\u001b[38;5;132;43;01m{TASK}\u001b[39;49;00m\u001b[38;5;124;43m/\u001b[39;49m\u001b[38;5;124;43m\"\u001b[39;49m\u001b[38;5;124;43m 2>/dev/null || echo \u001b[39;49m\u001b[38;5;124;43m\"\u001b[39;49m\u001b[38;5;124;43mNo tensor files found in embedding dir\u001b[39;49m\u001b[38;5;124;43m\"\u001b[39;49m\u001b[38;5;130;43;01m\\n\u001b[39;49;00m\u001b[38;5;130;43;01m\\n\u001b[39;49;00m\u001b[38;5;124;43m# Run the old Docker image\u001b[39;49m\u001b[38;5;130;43;01m\\n\u001b[39;49;00m\u001b[38;5;124;43mecho \u001b[39;49m\u001b[38;5;124;43m\"\u001b[39;49m\u001b[38;5;124;43mRunning old GeoPoc Docker image...\u001b[39;49m\u001b[38;5;124;43m\"\u001b[39;49m\u001b[38;5;130;43;01m\\n\u001b[39;49;00m\u001b[38;5;124;43mdocker run --rm --gpus \u001b[39;49m\u001b[38;5;124;43m\"\u001b[39;49m\u001b[38;5;124;43mall\u001b[39;49m\u001b[38;5;124;43m\"\u001b[39;49m\u001b[38;5;124;43m \u001b[39;49m\u001b[38;5;130;43;01m\\\\\u001b[39;49;00m\u001b[38;5;130;43;01m\\n\u001b[39;49;00m\u001b[38;5;124;43m  -v \u001b[39;49m\u001b[38;5;124;43m\"\u001b[39;49m\u001b[38;5;124;43m$\u001b[39;49m\u001b[38;5;132;43;01m{BASE_DIR}\u001b[39;49;00m\u001b[38;5;124;43m/input:/app/GeoPoc/input\u001b[39;49m\u001b[38;5;124;43m\"\u001b[39;49m\u001b[38;5;124;43m \u001b[39;49m\u001b[38;5;130;43;01m\\\\\u001b[39;49;00m\u001b[38;5;130;43;01m\\n\u001b[39;49;00m\u001b[38;5;124;43m  -v \u001b[39;49m\u001b[38;5;124;43m\"\u001b[39;49m\u001b[38;5;124;43m$\u001b[39;49m\u001b[38;5;132;43;01m{BASE_DIR}\u001b[39;49;00m\u001b[38;5;124;43m/output:/app/GeoPoc/output\u001b[39;49m\u001b[38;5;124;43m\"\u001b[39;49m\u001b[38;5;124;43m \u001b[39;49m\u001b[38;5;130;43;01m\\\\\u001b[39;49;00m\u001b[38;5;130;43;01m\\n\u001b[39;49;00m\u001b[38;5;124;43m  -v \u001b[39;49m\u001b[38;5;124;43m\"\u001b[39;49m\u001b[38;5;124;43m$\u001b[39;49m\u001b[38;5;132;43;01m{BASE_DIR}\u001b[39;49;00m\u001b[38;5;124;43m/features:/app/GeoPoc/features\u001b[39;49m\u001b[38;5;124;43m\"\u001b[39;49m\u001b[38;5;124;43m \u001b[39;49m\u001b[38;5;130;43;01m\\\\\u001b[39;49;00m\u001b[38;5;130;43;01m\\n\u001b[39;49;00m\u001b[38;5;124;43m  -v \u001b[39;49m\u001b[38;5;124;43m\"\u001b[39;49m\u001b[38;5;124;43m$\u001b[39;49m\u001b[38;5;132;43;01m{GEOPOC_MODEL_PATH}\u001b[39;49;00m\u001b[38;5;124;43m:/app/GeoPoc/models\u001b[39;49m\u001b[38;5;124;43m\"\u001b[39;49m\u001b[38;5;124;43m \u001b[39;49m\u001b[38;5;130;43;01m\\\\\u001b[39;49;00m\u001b[38;5;130;43;01m\\n\u001b[39;49;00m\u001b[38;5;124;43m  -v \u001b[39;49m\u001b[38;5;124;43m\"\u001b[39;49m\u001b[38;5;124;43m$\u001b[39;49m\u001b[38;5;132;43;01m{MODELDIR}\u001b[39;49;00m\u001b[38;5;124;43m:/root/.cache/torch/hub/checkpoints\u001b[39;49m\u001b[38;5;124;43m\"\u001b[39;49m\u001b[38;5;124;43m \u001b[39;49m\u001b[38;5;130;43;01m\\\\\u001b[39;49;00m\u001b[38;5;130;43;01m\\n\u001b[39;49;00m\u001b[38;5;124;43m  ghcr.io/new-atlantis-labs/geopoc:latest \u001b[39;49m\u001b[38;5;130;43;01m\\\\\u001b[39;49;00m\u001b[38;5;130;43;01m\\n\u001b[39;49;00m\u001b[38;5;124;43m  -i \u001b[39;49m\u001b[38;5;124;43m\"\u001b[39;49m\u001b[38;5;124;43m/app/GeoPoc/input/$\u001b[39;49m\u001b[38;5;132;43;01m{FILENAME}\u001b[39;49;00m\u001b[38;5;124;43m\"\u001b[39;49m\u001b[38;5;124;43m \u001b[39;49m\u001b[38;5;130;43;01m\\\\\u001b[39;49;00m\u001b[38;5;130;43;01m\\n\u001b[39;49;00m\u001b[38;5;124;43m  --feature_path \u001b[39;49m\u001b[38;5;124;43m\"\u001b[39;49m\u001b[38;5;124;43m/app/GeoPoc/features/\u001b[39;49m\u001b[38;5;124;43m\"\u001b[39;49m\u001b[38;5;124;43m \u001b[39;49m\u001b[38;5;130;43;01m\\\\\u001b[39;49;00m\u001b[38;5;130;43;01m\\n\u001b[39;49;00m\u001b[38;5;124;43m  -o \u001b[39;49m\u001b[38;5;124;43m\"\u001b[39;49m\u001b[38;5;124;43m/app/GeoPoc/output/\u001b[39;49m\u001b[38;5;124;43m\"\u001b[39;49m\u001b[38;5;124;43m \u001b[39;49m\u001b[38;5;130;43;01m\\\\\u001b[39;49;00m\u001b[38;5;130;43;01m\\n\u001b[39;49;00m\u001b[38;5;124;43m  --task \u001b[39;49m\u001b[38;5;124;43m\"\u001b[39;49m\u001b[38;5;124;43m$\u001b[39;49m\u001b[38;5;132;43;01m{TASK}\u001b[39;49;00m\u001b[38;5;124;43m\"\u001b[39;49m\u001b[38;5;124;43m \u001b[39;49m\u001b[38;5;130;43;01m\\\\\u001b[39;49;00m\u001b[38;5;130;43;01m\\n\u001b[39;49;00m\u001b[38;5;124;43m  --model_path \u001b[39;49m\u001b[38;5;124;43m\"\u001b[39;49m\u001b[38;5;124;43m/app/GeoPoc/models/\u001b[39;49m\u001b[38;5;124;43m\"\u001b[39;49m\u001b[38;5;124;43m \u001b[39;49m\u001b[38;5;130;43;01m\\\\\u001b[39;49;00m\u001b[38;5;130;43;01m\\n\u001b[39;49;00m\u001b[38;5;124;43m  --gpu 0\u001b[39;49m\u001b[38;5;130;43;01m\\n\u001b[39;49;00m\u001b[38;5;124;43m'\u001b[39;49m\u001b[43m)\u001b[49m\n",
      "File \u001b[0;32m~/anaconda3/envs/pytorch_p310/lib/python3.10/site-packages/IPython/core/interactiveshell.py:2543\u001b[0m, in \u001b[0;36mInteractiveShell.run_cell_magic\u001b[0;34m(self, magic_name, line, cell)\u001b[0m\n\u001b[1;32m   2542\u001b[0m     args \u001b[38;5;241m=\u001b[39m (magic_arg_s, cell)\n\u001b[0;32m-> 2543\u001b[0m     result \u001b[38;5;241m=\u001b[39m \u001b[43mfn\u001b[49m\u001b[43m(\u001b[49m\u001b[38;5;241;43m*\u001b[39;49m\u001b[43margs\u001b[49m\u001b[43m,\u001b[49m\u001b[43m \u001b[49m\u001b[38;5;241;43m*\u001b[39;49m\u001b[38;5;241;43m*\u001b[39;49m\u001b[43mkwargs\u001b[49m\u001b[43m)\u001b[49m\n\u001b[1;32m   2545\u001b[0m \u001b[38;5;66;03m# The code below prevents the output from being displayed\u001b[39;00m\n\u001b[1;32m   2546\u001b[0m \u001b[38;5;66;03m# when using magics with decorator @output_can_be_silenced\u001b[39;00m\n\u001b[1;32m   2547\u001b[0m \u001b[38;5;66;03m# when the last Python token in the expression is a ';'.\u001b[39;00m\n",
      "File \u001b[0;32m~/anaconda3/envs/pytorch_p310/lib/python3.10/site-packages/IPython/core/magics/script.py:159\u001b[0m, in \u001b[0;36mScriptMagics._make_script_magic.<locals>.named_script_magic\u001b[0;34m(line, cell)\u001b[0m\n\u001b[1;32m    158\u001b[0m     line \u001b[38;5;241m=\u001b[39m script\n\u001b[0;32m--> 159\u001b[0m \u001b[38;5;28;01mreturn\u001b[39;00m \u001b[38;5;28;43mself\u001b[39;49m\u001b[38;5;241;43m.\u001b[39;49m\u001b[43mshebang\u001b[49m\u001b[43m(\u001b[49m\u001b[43mline\u001b[49m\u001b[43m,\u001b[49m\u001b[43m \u001b[49m\u001b[43mcell\u001b[49m\u001b[43m)\u001b[49m\n",
      "File \u001b[0;32m~/anaconda3/envs/pytorch_p310/lib/python3.10/site-packages/IPython/core/magics/script.py:327\u001b[0m, in \u001b[0;36mScriptMagics.shebang\u001b[0;34m(self, line, cell)\u001b[0m\n\u001b[1;32m    326\u001b[0m \u001b[38;5;28;01mif\u001b[39;00m args\u001b[38;5;241m.\u001b[39mraise_error:\n\u001b[0;32m--> 327\u001b[0m     \u001b[38;5;28;01mraise\u001b[39;00m CalledProcessError(p\u001b[38;5;241m.\u001b[39mreturncode, cell) \u001b[38;5;28;01mfrom\u001b[39;00m\u001b[38;5;250m \u001b[39m\u001b[38;5;28;01mNone\u001b[39;00m\n\u001b[1;32m    328\u001b[0m \u001b[38;5;28;01melse\u001b[39;00m:\n",
      "\u001b[0;31m<class 'str'>\u001b[0m: (<class 'TypeError'>, TypeError('%d format: a real number is required, not NoneType'))",
      "\nDuring handling of the above exception, another exception occurred:\n",
      "\u001b[0;31mTypeError\u001b[0m                                 Traceback (most recent call last)",
      "    \u001b[0;31m[... skipping hidden 1 frame]\u001b[0m\n",
      "File \u001b[0;32m~/anaconda3/envs/pytorch_p310/lib/python3.10/site-packages/IPython/core/interactiveshell.py:2181\u001b[0m, in \u001b[0;36mInteractiveShell.showtraceback\u001b[0;34m(self, exc_tuple, filename, tb_offset, exception_only, running_compiled_code)\u001b[0m\n\u001b[1;32m   2178\u001b[0m         traceback\u001b[38;5;241m.\u001b[39mprint_exc()\n\u001b[1;32m   2179\u001b[0m         \u001b[38;5;28;01mreturn\u001b[39;00m \u001b[38;5;28;01mNone\u001b[39;00m\n\u001b[0;32m-> 2181\u001b[0m     \u001b[38;5;28;43mself\u001b[39;49m\u001b[38;5;241;43m.\u001b[39;49m\u001b[43m_showtraceback\u001b[49m\u001b[43m(\u001b[49m\u001b[43metype\u001b[49m\u001b[43m,\u001b[49m\u001b[43m \u001b[49m\u001b[43mvalue\u001b[49m\u001b[43m,\u001b[49m\u001b[43m \u001b[49m\u001b[43mstb\u001b[49m\u001b[43m)\u001b[49m\n\u001b[1;32m   2182\u001b[0m \u001b[38;5;28;01mif\u001b[39;00m \u001b[38;5;28mself\u001b[39m\u001b[38;5;241m.\u001b[39mcall_pdb:\n\u001b[1;32m   2183\u001b[0m     \u001b[38;5;66;03m# drop into debugger\u001b[39;00m\n\u001b[1;32m   2184\u001b[0m     \u001b[38;5;28mself\u001b[39m\u001b[38;5;241m.\u001b[39mdebugger(force\u001b[38;5;241m=\u001b[39m\u001b[38;5;28;01mTrue\u001b[39;00m)\n",
      "File \u001b[0;32m~/anaconda3/envs/pytorch_p310/lib/python3.10/site-packages/ipykernel/zmqshell.py:559\u001b[0m, in \u001b[0;36mZMQInteractiveShell._showtraceback\u001b[0;34m(self, etype, evalue, stb)\u001b[0m\n\u001b[1;32m    553\u001b[0m sys\u001b[38;5;241m.\u001b[39mstdout\u001b[38;5;241m.\u001b[39mflush()\n\u001b[1;32m    554\u001b[0m sys\u001b[38;5;241m.\u001b[39mstderr\u001b[38;5;241m.\u001b[39mflush()\n\u001b[1;32m    556\u001b[0m exc_content \u001b[38;5;241m=\u001b[39m {\n\u001b[1;32m    557\u001b[0m     \u001b[38;5;124m\"\u001b[39m\u001b[38;5;124mtraceback\u001b[39m\u001b[38;5;124m\"\u001b[39m: stb,\n\u001b[1;32m    558\u001b[0m     \u001b[38;5;124m\"\u001b[39m\u001b[38;5;124mename\u001b[39m\u001b[38;5;124m\"\u001b[39m: \u001b[38;5;28mstr\u001b[39m(etype\u001b[38;5;241m.\u001b[39m\u001b[38;5;18m__name__\u001b[39m),\n\u001b[0;32m--> 559\u001b[0m     \u001b[38;5;124m\"\u001b[39m\u001b[38;5;124mevalue\u001b[39m\u001b[38;5;124m\"\u001b[39m: \u001b[38;5;28;43mstr\u001b[39;49m\u001b[43m(\u001b[49m\u001b[43mevalue\u001b[49m\u001b[43m)\u001b[49m,\n\u001b[1;32m    560\u001b[0m }\n\u001b[1;32m    562\u001b[0m dh \u001b[38;5;241m=\u001b[39m \u001b[38;5;28mself\u001b[39m\u001b[38;5;241m.\u001b[39mdisplayhook\n\u001b[1;32m    563\u001b[0m \u001b[38;5;66;03m# Send exception info over pub socket for other clients than the caller\u001b[39;00m\n\u001b[1;32m    564\u001b[0m \u001b[38;5;66;03m# to pick up\u001b[39;00m\n",
      "File \u001b[0;32m~/anaconda3/envs/pytorch_p310/lib/python3.10/subprocess.py:126\u001b[0m, in \u001b[0;36mCalledProcessError.__str__\u001b[0;34m(self)\u001b[0m\n\u001b[1;32m    123\u001b[0m         \u001b[38;5;28;01mreturn\u001b[39;00m \u001b[38;5;124m\"\u001b[39m\u001b[38;5;124mCommand \u001b[39m\u001b[38;5;124m'\u001b[39m\u001b[38;5;132;01m%s\u001b[39;00m\u001b[38;5;124m'\u001b[39m\u001b[38;5;124m died with unknown signal \u001b[39m\u001b[38;5;132;01m%d\u001b[39;00m\u001b[38;5;124m.\u001b[39m\u001b[38;5;124m\"\u001b[39m \u001b[38;5;241m%\u001b[39m (\n\u001b[1;32m    124\u001b[0m                 \u001b[38;5;28mself\u001b[39m\u001b[38;5;241m.\u001b[39mcmd, \u001b[38;5;241m-\u001b[39m\u001b[38;5;28mself\u001b[39m\u001b[38;5;241m.\u001b[39mreturncode)\n\u001b[1;32m    125\u001b[0m \u001b[38;5;28;01melse\u001b[39;00m:\n\u001b[0;32m--> 126\u001b[0m     \u001b[38;5;28;01mreturn\u001b[39;00m \u001b[38;5;124;43m\"\u001b[39;49m\u001b[38;5;124;43mCommand \u001b[39;49m\u001b[38;5;124;43m'\u001b[39;49m\u001b[38;5;132;43;01m%s\u001b[39;49;00m\u001b[38;5;124;43m'\u001b[39;49m\u001b[38;5;124;43m returned non-zero exit status \u001b[39;49m\u001b[38;5;132;43;01m%d\u001b[39;49;00m\u001b[38;5;124;43m.\u001b[39;49m\u001b[38;5;124;43m\"\u001b[39;49m\u001b[43m \u001b[49m\u001b[38;5;241;43m%\u001b[39;49m\u001b[43m \u001b[49m\u001b[43m(\u001b[49m\n\u001b[1;32m    127\u001b[0m \u001b[43m            \u001b[49m\u001b[38;5;28;43mself\u001b[39;49m\u001b[38;5;241;43m.\u001b[39;49m\u001b[43mcmd\u001b[49m\u001b[43m,\u001b[49m\u001b[43m \u001b[49m\u001b[38;5;28;43mself\u001b[39;49m\u001b[38;5;241;43m.\u001b[39;49m\u001b[43mreturncode\u001b[49m\u001b[43m)\u001b[49m\n",
      "\u001b[0;31mTypeError\u001b[0m: %d format: a real number is required, not NoneType"
     ]
    }
   ],
   "source": [
    "%%bash\n",
    "\n",
    "# Base directories\n",
    "WORKDIR=\"/home/ec2-user/SageMaker/mangrove-plastic-degrading\"\n",
    "BASE_DIR=\"/home/ec2-user/SageMaker/GeoPoc/test_new_image\"\n",
    "SEQUENCES_DIR=\"${WORKDIR}/tests/data\"\n",
    "STRUCTURES_DIR=\"${WORKDIR}/tests/outputs/structures\"\n",
    "EMBEDDINGS_DIR=\"${WORKDIR}/tests/outputs/embeddings\"\n",
    "MODELDIR=\"/home/ec2-user/SageMaker/models\"\n",
    "GEOPOC_MODEL_PATH=\"${MODELDIR}/geopoc\"\n",
    "\n",
    "# Input specifics\n",
    "BASE_NAME=\"PET\"\n",
    "TASK=\"temp\"\n",
    "FILENAME=\"${BASE_NAME}.faa\"\n",
    "FASTA_STRUCTURES_DIR=\"${STRUCTURES_DIR}/${BASE_NAME}\"\n",
    "FASTA_EMBEDDINGS_DIR=\"${EMBEDDINGS_DIR}/${BASE_NAME}\"\n",
    "\n",
    "# Create test directory structure\n",
    "mkdir -p \"${BASE_DIR}/input\"\n",
    "mkdir -p \"${BASE_DIR}/output\"\n",
    "mkdir -p \"${BASE_DIR}/features/pdb\"\n",
    "mkdir -p \"${BASE_DIR}/features/embedding\"\n",
    "mkdir -p \"${BASE_DIR}/features/embedding/${TASK}\"\n",
    "mkdir -p \"${BASE_DIR}/features/DSSP\"\n",
    "\n",
    "# Copy FASTA file\n",
    "cp \"${SEQUENCES_DIR}/${FILENAME}\" \"${BASE_DIR}/input/\"\n",
    "\n",
    "# Copy structure files to the features/pdb directory\n",
    "echo \"Copying PDB structures...\"\n",
    "cp ${FASTA_STRUCTURES_DIR}/*.pdb \"${BASE_DIR}/features/pdb/\" 2>/dev/null || echo \"No PDB files found\"\n",
    "cp ${FASTA_STRUCTURES_DIR}/*.tensor \"${BASE_DIR}/features/pdb/\" 2>/dev/null || echo \"No tensor files found in PDB dir\"\n",
    "\n",
    "# Copy embedding files to the features/embedding directory\n",
    "echo \"Copying embedding files...\"\n",
    "cp ${FASTA_EMBEDDINGS_DIR}/*.pt \"${BASE_DIR}/features/embedding/\" 2>/dev/null || echo \"No PT files found\"\n",
    "cp ${FASTA_EMBEDDINGS_DIR}/*.tensor \"${BASE_DIR}/features/embedding/${TASK}/\" 2>/dev/null || echo \"No tensor files found in embedding dir\"\n",
    "\n",
    "# Run the old Docker image\n",
    "echo \"Running old GeoPoc Docker image...\"\n",
    "docker run --rm --gpus \"all\" \\\n",
    "  -v \"${BASE_DIR}/input:/app/GeoPoc/input\" \\\n",
    "  -v \"${BASE_DIR}/output:/app/GeoPoc/output\" \\\n",
    "  -v \"${BASE_DIR}/features:/app/GeoPoc/features\" \\\n",
    "  -v \"${GEOPOC_MODEL_PATH}:/app/GeoPoc/models\" \\\n",
    "  -v \"${MODELDIR}:/root/.cache/torch/hub/checkpoints\" \\\n",
    "  ghcr.io/new-atlantis-labs/geopoc:latest \\\n",
    "  -i \"/app/GeoPoc/input/${FILENAME}\" \\\n",
    "  --feature_path \"/app/GeoPoc/features/\" \\\n",
    "  -o \"/app/GeoPoc/output/\" \\\n",
    "  --task \"${TASK}\" \\\n",
    "  --model_path \"/app/GeoPoc/models/\" \\\n",
    "  --gpu 0"
   ]
  },
  {
   "cell_type": "markdown",
   "metadata": {},
   "source": [
    "## Test new image\n",
    "\n",
    "Doesn't require a features input dir"
   ]
  },
  {
   "cell_type": "code",
   "execution_count": 11,
   "metadata": {
    "tags": []
   },
   "outputs": [
    {
     "data": {
      "text/plain": [
       "torch.Size([365, 5, 3])"
      ]
     },
     "execution_count": 11,
     "metadata": {},
     "output_type": "execute_result"
    }
   ],
   "source": [
    "import torch\n",
    "\n",
    "T = torch.load(\"test_emb/features/pdb/ERR12814712__k127_2301791_6.tensor\")\n",
    "T.shape"
   ]
  },
  {
   "cell_type": "code",
   "execution_count": 12,
   "metadata": {
    "tags": []
   },
   "outputs": [
    {
     "data": {
      "text/plain": [
       "{33: tensor([[-0.0386,  0.1496, -0.4162,  ...,  0.1260,  0.0268,  0.3619],\n",
       "         [-0.0277,  0.1537, -0.4543,  ..., -0.1465,  0.2371,  0.0474],\n",
       "         [ 0.0891,  0.1944, -0.2847,  ...,  0.0199, -0.0115, -0.2145],\n",
       "         ...,\n",
       "         [ 0.1561,  0.3619,  0.0113,  ...,  0.0762, -0.0765,  0.0232],\n",
       "         [ 0.1476,  0.3353,  0.2289,  ...,  0.0300,  0.2180,  0.2163],\n",
       "         [ 0.1009,  0.2275,  0.0245,  ..., -0.0682,  0.0600,  0.0505]])}"
      ]
     },
     "execution_count": 12,
     "metadata": {},
     "output_type": "execute_result"
    }
   ],
   "source": [
    "raw_esm['representations']"
   ]
  },
  {
   "cell_type": "code",
   "execution_count": 13,
   "metadata": {
    "tags": []
   },
   "outputs": [
    {
     "data": {
      "text/plain": [
       "{36: tensor([[ 0.0169, -0.2708, -0.2502,  ...,  0.1520,  0.0411, -0.1204],\n",
       "         [ 0.2070, -0.2094, -0.0072,  ..., -0.0141, -0.0665,  0.0525],\n",
       "         [ 0.1188, -0.1721, -0.1340,  ..., -0.0222, -0.0210, -0.0084],\n",
       "         ...,\n",
       "         [ 0.0873,  0.0756, -0.0562,  ..., -0.1091, -0.0509,  0.0939],\n",
       "         [ 0.0281,  0.0084,  0.0119,  ..., -0.0540, -0.1103,  0.0715],\n",
       "         [-0.0409,  0.0933, -0.1379,  ..., -0.1378, -0.1839, -0.0161]])}"
      ]
     },
     "execution_count": 13,
     "metadata": {},
     "output_type": "execute_result"
    }
   ],
   "source": [
    "raw_esm = torch.load(\"test_emb/features/embedding/ERR12736120__k127_3120039_3.pt\")\n",
    "raw_esm['representations']"
   ]
  },
  {
   "cell_type": "code",
   "execution_count": 1,
   "metadata": {
    "tags": []
   },
   "outputs": [],
   "source": [
    "import torch\n",
    "\n",
    "\n",
    "raw_esm = torch.load(\"../mangrove-plastic-degrading/tests/outputs/embeddings/PET/ERR12771227__k127_1462196_1.pt\")\n",
    "raw_esm = raw_esm['representations'][36].numpy()"
   ]
  },
  {
   "cell_type": "code",
   "execution_count": 12,
   "metadata": {
    "tags": []
   },
   "outputs": [
    {
     "name": "stdout",
     "output_type": "stream",
     "text": [
      "Reading FASTA file: /input/PET.faa\n",
      "Found 2 protein sequences\n",
      "Created temporary directory: /tmp/geopoc_features_khsdp76f\n",
      "Using PDB files from: /pdb_base/\n",
      "  - Linked/copied 2 PDB files and 0 tensor files\n",
      "Converting 2 PDB files to tensor format...\n",
      "Extracted coordinates for 356 residues with shape (356, 5, 3)\n",
      "Saved tensor with shape torch.Size([356, 5, 3]) for ERR12772908__k127_1041917_29.pdb\n",
      "Extracted coordinates for 359 residues with shape (359, 5, 3)\n",
      "Saved tensor with shape torch.Size([359, 5, 3]) for ERR12771227__k127_1462196_1.pdb\n",
      "Successfully converted 2 PDB files to tensor format.\n",
      "Preprocessed 2 PDB files to tensors\n",
      "  - 0 out of 2 proteins will need structure prediction\n",
      "Using ESM embeddings from: /embeddings_base/\n",
      "  - Linked/copied 2 embedding files\n",
      "  - 0 out of 2 proteins will need embedding generation\n",
      "No normalized embedding directory provided - temp-specific embeddings will be generated\n",
      "No DSSP directory provided - secondary structure features will be calculated\n",
      "Running: python /app/GeoPoc/predict.py -i /input/PET.faa --feature_path /tmp/geopoc_features_khsdp76f/ --model_path /models/ -o /output/ --task temp --gpu 0\n",
      "/opt/conda/lib/python3.7/site-packages/Bio/pairwise2.py:283: BiopythonDeprecationWarning: Bio.pairwise2 has been deprecated, and we intend to remove it in a future release of Biopython. As an alternative, please consider using Bio.Align.PairwiseAligner as a replacement, and contact the Biopython developers if you still need the Bio.pairwise2 module.\n",
      "  BiopythonDeprecationWarning,\n",
      "100%|██████████| 2/2 [00:00<00:00, 108.57it/s]\n",
      "100%|██████████| 2/2 [00:00<00:00, 11.93it/s]\n",
      "100%|██████████| 2/2 [00:58<00:00, 29.50s/it]\n",
      "Prediction completed successfully. Results saved to /output/\n",
      "Cleaning up temporary directory: /tmp/geopoc_features_khsdp76f\n"
     ]
    }
   ],
   "source": [
    "%%bash\n",
    "\n",
    "WORKDIR=\"/home/ec2-user/SageMaker/mangrove-plastic-degrading\"\n",
    "SEQUENCES_DIR=\"${WORKDIR}/tests/data\"\n",
    "OUTPUT_DIR=\"${WORKDIR}/tests/outputs\"\n",
    "MODELDIR=\"/home/ec2-user/SageMaker/models\"\n",
    "STRUCTURES_DIR=\"${OUTPUT_DIR}/structures\"\n",
    "EMBEDDINGS_DIR=\"${OUTPUT_DIR}/embeddings\"\n",
    "GEOPOC_MODEL_PATH=\"${MODELDIR}/geopoc\"\n",
    "GEOPOC_OUTPUT=\"${OUTPUT_DIR}/geopoc\"\n",
    "\n",
    "BASE_NAME=\"PET\"\n",
    "TASK=\"temp\"\n",
    "FILENAME=\"${BASE_NAME}.faa\"\n",
    "\n",
    "FASTA_STRUCTURES_DIR=\"${STRUCTURES_DIR}/${BASE_NAME}\"\n",
    "FASTA_EMBEDDINGS_DIR=\"${EMBEDDINGS_DIR}/${BASE_NAME}\"\n",
    "\n",
    "docker run --rm --gpus \"all\" \\\n",
    "  -v ${SEQUENCES_DIR}:/input \\\n",
    "  -v ${GEOPOC_OUTPUT}:/output \\\n",
    "  -v ${FASTA_STRUCTURES_DIR}:/pdb_base \\\n",
    "  -v ${FASTA_EMBEDDINGS_DIR}:/embeddings_base \\\n",
    "  -v ${GEOPOC_MODEL_PATH}:/models \\\n",
    "  -v ${MODELDIR}:/root/.cache/torch/hub/checkpoints \\\n",
    "  geopoc:new \\\n",
    "  -i /input/${FILENAME} \\\n",
    "  -o /output/ \\\n",
    "  --model_path /models/ \\\n",
    "  --pdb_dir /pdb_base/ \\\n",
    "  --embedding_dir /embeddings_base/ \\\n",
    "  --task ${TASK} \\\n",
    "  --gpu 0 2>&1"
   ]
  }
 ],
 "metadata": {
  "kernelspec": {
   "display_name": "conda_pytorch_p310",
   "language": "python",
   "name": "conda_pytorch_p310"
  },
  "language_info": {
   "codemirror_mode": {
    "name": "ipython",
    "version": 3
   },
   "file_extension": ".py",
   "mimetype": "text/x-python",
   "name": "python",
   "nbconvert_exporter": "python",
   "pygments_lexer": "ipython3",
   "version": "3.10.14"
  }
 },
 "nbformat": 4,
 "nbformat_minor": 4
}
