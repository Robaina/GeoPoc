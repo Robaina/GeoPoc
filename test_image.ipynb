{
 "cells": [
  {
   "cell_type": "markdown",
   "metadata": {},
   "source": [
    "# Test GeoPoc docker image\n",
    "\n",
    "GeoPoc uses ESM-2"
   ]
  },
  {
   "cell_type": "markdown",
   "metadata": {},
   "source": [
    "### Compute pdb structures"
   ]
  },
  {
   "cell_type": "code",
   "execution_count": 8,
   "metadata": {
    "tags": []
   },
   "outputs": [],
   "source": [
    "%%bash\n",
    "\n",
    "mkdir -p /home/ec2-user/SageMaker/GeoPoc/tests/features/pdb\n",
    "mkdir -p /home/ec2-user/SageMaker/GeoPoc/tests/features/embedding/temp\n",
    "mkdir -p /home/ec2-user/SageMaker/GeoPoc/tests/features/embedding/pH\n",
    "mkdir -p /home/ec2-user/SageMaker/GeoPoc/tests/features/embedding/salt\n",
    "mkdir -p /home/ec2-user/SageMaker/GeoPoc/tests/features/DSSP\n",
    "sudo chmod -R 777 /home/ec2-user/SageMaker/GeoPoc/tests/features"
   ]
  },
  {
   "cell_type": "code",
   "execution_count": 3,
   "metadata": {
    "tags": []
   },
   "outputs": [
    {
     "name": "stdout",
     "output_type": "stream",
     "text": [
      "\u001b[31mERROR: pip's dependency resolver does not currently take into account all the packages that are installed. This behaviour is the source of the following dependency conflicts.\n",
      "sphinx 8.1.3 requires docutils<0.22,>=0.20, but you have docutils 0.16 which is incompatible.\u001b[0m\u001b[31m\n",
      "\u001b[0m\u001b[33mWARNING: Skipping proteus as it is not installed.\u001b[0m\u001b[33m\n",
      "\u001b[0mBuilding \u001b[36mproteus\u001b[39m (\u001b[39;1m0.0.0\u001b[39;22m)\n",
      "  - Building \u001b[34msdist\u001b[39m\n",
      "  - Built \u001b[32mproteus-0.0.0.tar.gz\u001b[39m\n",
      "  - Building \u001b[34mwheel\u001b[39m\n",
      "  - Built \u001b[32mproteus-0.0.0-py3-none-any.whl\u001b[39m\n",
      "Processing ./dist/proteus-0.0.0-py3-none-any.whl\n",
      "Installing collected packages: proteus\n",
      "Successfully installed proteus-0.0.0\n"
     ]
    }
   ],
   "source": [
    "!cd ../Proteus && pip install -qr requirements.txt\n",
    "!cd ../Proteus && pip uninstall -y proteus && poetry build && pip install dist/proteus-0.0.0-py3-none-any.whl"
   ]
  },
  {
   "cell_type": "markdown",
   "metadata": {},
   "source": [
    "## Fold sequences"
   ]
  },
  {
   "cell_type": "code",
   "execution_count": 18,
   "metadata": {
    "tags": []
   },
   "outputs": [],
   "source": [
    "from proteus.fitness_helpers import run_esmfold\n",
    "\n",
    "pdb_dir = \"/home/ec2-user/SageMaker/GeoPoc/tests/features\"\n",
    "\n",
    "run_esmfold(\n",
    "    fasta_path=\"/home/ec2-user/SageMaker/GeoPoc/GeoPoc/example/test.fasta\",\n",
    "    pdb_output_path=pdb_dir,\n",
    "    cpu_only=False,\n",
    "    docker_image=\"ghcr.io/new-atlantis-labs/esmfold:latest\",\n",
    ")"
   ]
  },
  {
   "cell_type": "markdown",
   "metadata": {},
   "source": [
    "## Run GeoPoc: optimal temperature"
   ]
  },
  {
   "cell_type": "code",
   "execution_count": 11,
   "metadata": {
    "tags": []
   },
   "outputs": [
    {
     "name": "stdout",
     "output_type": "stream",
     "text": [
      "/opt/conda/lib/python3.7/site-packages/Bio/pairwise2.py:283: BiopythonDeprecationWarning: Bio.pairwise2 has been deprecated, and we intend to remove it in a future release of Biopython. As an alternative, please consider using Bio.Align.PairwiseAligner as a replacement, and contact the Biopython developers if you still need the Bio.pairwise2 module.\n",
      "  BiopythonDeprecationWarning,\n",
      "100%|██████████| 1/1 [00:00<00:00,  1.17it/s]\n"
     ]
    }
   ],
   "source": [
    "%%bash\n",
    "\n",
    "docker run --rm --gpus \"all\" \\\n",
    "  -v /home/ec2-user/SageMaker/GeoPoc/tests/:/app/GeoPoc/input \\\n",
    "  -v /home/ec2-user/SageMaker/GeoPoc/tests/outputs:/app/GeoPoc/output \\\n",
    "  -v /home/ec2-user/SageMaker/GeoPoc/tests/features:/app/GeoPoc/features \\\n",
    "  ghcr.io/new-atlantis-labs/geopoc:latest \\\n",
    "  -i /app/GeoPoc/input/test.fasta \\\n",
    "  --feature_path /app/GeoPoc/features/ \\\n",
    "  -o /app/GeoPoc/output/ \\\n",
    "  --task temp \\\n",
    "  --gpu 0 2>&1"
   ]
  },
  {
   "cell_type": "markdown",
   "metadata": {},
   "source": [
    "## Optimal pH"
   ]
  },
  {
   "cell_type": "code",
   "execution_count": 9,
   "metadata": {
    "tags": []
   },
   "outputs": [
    {
     "name": "stdout",
     "output_type": "stream",
     "text": [
      "/opt/conda/lib/python3.7/site-packages/Bio/pairwise2.py:283: BiopythonDeprecationWarning: Bio.pairwise2 has been deprecated, and we intend to remove it in a future release of Biopython. As an alternative, please consider using Bio.Align.PairwiseAligner as a replacement, and contact the Biopython developers if you still need the Bio.pairwise2 module.\n",
      "  BiopythonDeprecationWarning,\n",
      "100%|██████████| 1/1 [00:00<00:00, 33.34it/s]\n",
      "100%|██████████| 1/1 [00:01<00:00,  1.95s/it]\n"
     ]
    }
   ],
   "source": [
    "%%bash\n",
    "\n",
    "docker run --rm --gpus \"all\" \\\n",
    "  -v /home/ec2-user/SageMaker/GeoPoc/tests/:/app/GeoPoc/input \\\n",
    "  -v /home/ec2-user/SageMaker/GeoPoc/tests/outputs:/app/GeoPoc/output \\\n",
    "  -v /home/ec2-user/SageMaker/GeoPoc/tests/features:/app/GeoPoc/features \\\n",
    "  ghcr.io/new-atlantis-labs/geopoc:latest \\\n",
    "  -i /app/GeoPoc/input/test.fasta \\\n",
    "  --feature_path /app/GeoPoc/features/ \\\n",
    "  -o /app/GeoPoc/output/ \\\n",
    "  --task pH \\\n",
    "  --gpu 0 2>&1"
   ]
  },
  {
   "cell_type": "markdown",
   "metadata": {},
   "source": [
    "## Optimal Salt Concentration"
   ]
  },
  {
   "cell_type": "code",
   "execution_count": 10,
   "metadata": {
    "tags": []
   },
   "outputs": [
    {
     "name": "stdout",
     "output_type": "stream",
     "text": [
      "/opt/conda/lib/python3.7/site-packages/Bio/pairwise2.py:283: BiopythonDeprecationWarning: Bio.pairwise2 has been deprecated, and we intend to remove it in a future release of Biopython. As an alternative, please consider using Bio.Align.PairwiseAligner as a replacement, and contact the Biopython developers if you still need the Bio.pairwise2 module.\n",
      "  BiopythonDeprecationWarning,\n",
      "100%|██████████| 1/1 [00:00<00:00, 97.28it/s]\n",
      "100%|██████████| 1/1 [00:00<00:00,  1.14it/s]\n"
     ]
    }
   ],
   "source": [
    "%%bash\n",
    "\n",
    "docker run --rm --gpus \"all\" \\\n",
    "  -v /home/ec2-user/SageMaker/GeoPoc/tests/:/app/GeoPoc/input \\\n",
    "  -v /home/ec2-user/SageMaker/GeoPoc/tests/outputs:/app/GeoPoc/output \\\n",
    "  -v /home/ec2-user/SageMaker/GeoPoc/tests/features:/app/GeoPoc/features \\\n",
    "  ghcr.io/new-atlantis-labs/geopoc:latest \\\n",
    "  -i /app/GeoPoc/input/test.fasta \\\n",
    "  --feature_path /app/GeoPoc/features/ \\\n",
    "  -o /app/GeoPoc/output/ \\\n",
    "  --task salt \\\n",
    "  --gpu 0 2>&1"
   ]
  }
 ],
 "metadata": {
  "kernelspec": {
   "display_name": "conda_python3",
   "language": "python",
   "name": "conda_python3"
  },
  "language_info": {
   "codemirror_mode": {
    "name": "ipython",
    "version": 3
   },
   "file_extension": ".py",
   "mimetype": "text/x-python",
   "name": "python",
   "nbconvert_exporter": "python",
   "pygments_lexer": "ipython3",
   "version": "3.10.16"
  }
 },
 "nbformat": 4,
 "nbformat_minor": 4
}
